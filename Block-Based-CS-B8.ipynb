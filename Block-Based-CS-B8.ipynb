{
 "cells": [
  {
   "cell_type": "code",
   "execution_count": 1,
   "metadata": {},
   "outputs": [
    {
     "name": "stderr",
     "output_type": "stream",
     "text": [
      "Using TensorFlow backend.\n",
      "/home/ubuntu/anaconda3/envs/tensorflow_p36/lib/python3.6/site-packages/matplotlib/font_manager.py:278: UserWarning: Matplotlib is building the font cache using fc-list. This may take a moment.\n",
      "  'Matplotlib is building the font cache using fc-list. '\n"
     ]
    },
    {
     "name": "stdout",
     "output_type": "stream",
     "text": [
      "Populating the interactive namespace from numpy and matplotlib\n"
     ]
    }
   ],
   "source": [
    "#Importing libraries\n",
    "import tensorflow as tf\n",
    "import keras \n",
    "from keras.models import model_from_json\n",
    "from keras import backend\n",
    "import numpy as np\n",
    "\n",
    "import cv2\n",
    "\n",
    "%pylab inline\n",
    "import matplotlib.pyplot as plt\n",
    "import matplotlib.image as matp\n",
    "\n",
    "import scipy.ndimage\n",
    "from scipy import misc\n",
    "\n",
    "import os\n",
    "import random\n",
    "\n",
    "import math\n",
    "from sklearn.model_selection import train_test_split"
   ]
  },
  {
   "cell_type": "markdown",
   "metadata": {},
   "source": [
    "#### Hyper parameters used in the original paper:"
   ]
  },
  {
   "cell_type": "code",
   "execution_count": 2,
   "metadata": {},
   "outputs": [],
   "source": [
    "#Block size\n",
    "B = 8\n",
    "\n",
    "#Sensing rate R = M/N\n",
    "#Sensing matrix is MxN\n",
    "R = 0.25\n",
    "\n",
    "#Number of reconstruction layers\n",
    "#K =2 two hidden layers for reconstruction\n",
    "\n",
    "#Redundancy factor\n",
    "T = 8"
   ]
  },
  {
   "cell_type": "markdown",
   "metadata": {},
   "source": [
    "# 1. Data"
   ]
  },
  {
   "cell_type": "markdown",
   "metadata": {},
   "source": [
    "### 1.1 Reading the images from the file"
   ]
  },
  {
   "cell_type": "code",
   "execution_count": 3,
   "metadata": {},
   "outputs": [],
   "source": [
    "#unzipping the file\n",
    "import zipfile\n",
    "zip_ref = zipfile.ZipFile('Data.zip', 'r') \n",
    "zip_ref.extractall('input_data') \n",
    "zip_ref.close()"
   ]
  },
  {
   "cell_type": "code",
   "execution_count": 4,
   "metadata": {},
   "outputs": [],
   "source": [
    "#Reads all the images from the file and save them in a list as Type=unit8\n",
    "#3-channels of the images share the same info. So one channel is only used\n",
    "def load_images_from_folder(folder):\n",
    "    images = []\n",
    "    for filename in os.listdir(folder):\n",
    "        \n",
    "        imagePath = os.path.join(folder,filename)\n",
    "        \n",
    "        if imagePath == folder + '.DS_Store':\n",
    "            continue\n",
    "        else:\n",
    "            img = cv2.imread(imagePath,cv2.IMREAD_UNCHANGED)\n",
    "            if img is not None:\n",
    "                images.append(img[:,:,0])\n",
    "                \n",
    "    return images"
   ]
  },
  {
   "cell_type": "code",
   "execution_count": 5,
   "metadata": {},
   "outputs": [],
   "source": [
    "images = load_images_from_folder('input_data/Data')"
   ]
  },
  {
   "cell_type": "code",
   "execution_count": 6,
   "metadata": {},
   "outputs": [
    {
     "name": "stdout",
     "output_type": "stream",
     "text": [
      "<class 'list'>\n",
      "100\n",
      "(768, 1024)\n",
      "uint8\n"
     ]
    },
    {
     "data": {
      "text/plain": [
       "254"
      ]
     },
     "execution_count": 6,
     "metadata": {},
     "output_type": "execute_result"
    }
   ],
   "source": [
    "#test\n",
    "print(type(images))\n",
    "print(len(images))\n",
    "print(images[0].shape)\n",
    "print(images[0].dtype)\n",
    "np.max(images[0])"
   ]
  },
  {
   "cell_type": "code",
   "execution_count": 7,
   "metadata": {},
   "outputs": [],
   "source": [
    "#image shape\n",
    "img_shape = images[0].shape"
   ]
  },
  {
   "cell_type": "markdown",
   "metadata": {},
   "source": [
    "### 1.2 Compression and Decompression"
   ]
  },
  {
   "cell_type": "code",
   "execution_count": 8,
   "metadata": {},
   "outputs": [],
   "source": [
    "#This function gets all the images and split them into blocks of BxB and save each block into a row of an array\n",
    "def compression(image,B):\n",
    "    \n",
    "    R = len(image)\n",
    "    C = len(image[0])\n",
    "    \n",
    "    res = []\n",
    "    \n",
    "    for r in range(0,R,B):\n",
    "        for c in range(0,C,B):\n",
    "            #segment BxB blocks and faltten them into a vector with len=B^2\n",
    "            tmp = image[r:B+r,c:c+B].flatten()\n",
    "            res.append(tmp)\n",
    "            \n",
    "    return np.asarray(res)    \n",
    "\n",
    "#This function gets an array with shape = (len(image)xlen(image[0])/B^2,B^2)\n",
    "#returns and image with shape len(image)xlen(image[0]) \n",
    "def decompression(arr,B,img_shape):\n",
    "    \n",
    "    numBlocks_R = int(img_shape[0]/B)\n",
    "    numBlocks_C = int(img_shape[1]/B)\n",
    "    \n",
    "    #makes an empty array\n",
    "    newImage=np.empty((img_shape[0],img_shape[1]))\n",
    "    \n",
    "    for r in range(numBlocks_R):\n",
    "        for c in range(numBlocks_C):\n",
    "            \n",
    "            if arr.size != 0:\n",
    "                tmp = arr[0].reshape((B,B))\n",
    "                arr = np.delete(arr,0,0)\n",
    "                newImage[r*B:(r+1)*B , c*B:(c+1)*B] = tmp\n",
    "                \n",
    "    return newImage"
   ]
  },
  {
   "cell_type": "markdown",
   "metadata": {},
   "source": [
    "### 1.3 Function: Compress all the images and save them into a numpy array"
   ]
  },
  {
   "cell_type": "code",
   "execution_count": 9,
   "metadata": {},
   "outputs": [],
   "source": [
    "def building_Input(images,B):\n",
    "    input_X = []\n",
    "    \n",
    "    for i in images:\n",
    "        input_X.extend(compression(i,B))\n",
    "        \n",
    "    return np.asarray(input_X)"
   ]
  },
  {
   "cell_type": "code",
   "execution_count": 10,
   "metadata": {},
   "outputs": [],
   "source": [
    "#Test\n",
    "test = building_Input(images,B)"
   ]
  },
  {
   "cell_type": "code",
   "execution_count": 11,
   "metadata": {},
   "outputs": [
    {
     "name": "stdout",
     "output_type": "stream",
     "text": [
      "1228800\n",
      "<class 'numpy.ndarray'>\n",
      "64\n"
     ]
    }
   ],
   "source": [
    "#Each image construct 3072 images = 768/16 * 1024/16\n",
    "print(len(test))\n",
    "print(type(test))\n",
    "print(len(test[0]))#should be B*B"
   ]
  },
  {
   "cell_type": "markdown",
   "metadata": {},
   "source": [
    "### 1.4 Splitting Data "
   ]
  },
  {
   "cell_type": "code",
   "execution_count": 12,
   "metadata": {},
   "outputs": [],
   "source": [
    "#Split your data to test and train\n",
    "X_train_Or, X_test_Or, y_train_Or, y_test_Or = train_test_split(images,images, test_size=0.30, random_state=42)"
   ]
  },
  {
   "cell_type": "code",
   "execution_count": 13,
   "metadata": {},
   "outputs": [
    {
     "name": "stdout",
     "output_type": "stream",
     "text": [
      "Number of images in Training set:  70\n",
      "Number of images in Test set:  30\n"
     ]
    }
   ],
   "source": [
    "print(\"Number of images in Training set: \",len(X_train_Or))\n",
    "print(\"Number of images in Test set: \",len(X_test_Or))"
   ]
  },
  {
   "cell_type": "code",
   "execution_count": 14,
   "metadata": {},
   "outputs": [],
   "source": [
    "def save_images_to_folder(folder,img_name,images):\n",
    "    path = folder+\"/\"+ img_name\n",
    "    for i,im in enumerate(images):\n",
    "        cv2.imwrite(path+str(i)+'.JPEG',im)  \n",
    "    return "
   ]
  },
  {
   "cell_type": "code",
   "execution_count": 15,
   "metadata": {},
   "outputs": [],
   "source": [
    "#Saving images in to a file\n",
    "save_images_to_folder('train','train_',X_train_Or)\n",
    "save_images_to_folder('test','test_',X_test_Or)"
   ]
  },
  {
   "cell_type": "markdown",
   "metadata": {},
   "source": [
    "### 1.5 Making data ready for training"
   ]
  },
  {
   "cell_type": "code",
   "execution_count": 15,
   "metadata": {},
   "outputs": [],
   "source": [
    "#Train\n",
    "X_train = building_Input(X_train_Or,B)\n",
    "y_train = X_train\n",
    "\n",
    "#Test\n",
    "X_test = building_Input(X_test_Or,B)\n",
    "y_test = X_test"
   ]
  },
  {
   "cell_type": "code",
   "execution_count": 16,
   "metadata": {},
   "outputs": [
    {
     "name": "stdout",
     "output_type": "stream",
     "text": [
      "Number of blocks in Training set:  860160\n",
      "Number of blocks in Test set:  368640\n"
     ]
    }
   ],
   "source": [
    "print(\"Number of blocks in Training set: \",len(X_train))\n",
    "print(\"Number of blocks in Test set: \",len(X_test))"
   ]
  },
  {
   "cell_type": "code",
   "execution_count": 17,
   "metadata": {},
   "outputs": [
    {
     "name": "stdout",
     "output_type": "stream",
     "text": [
      "(860160, 64)\n",
      "(860160, 64)\n",
      "(368640, 64)\n",
      "(368640, 64)\n"
     ]
    }
   ],
   "source": [
    "#cheking the dimensions\n",
    "\n",
    "print(X_train.shape)\n",
    "print(y_train.shape)\n",
    "\n",
    "print(X_test.shape)\n",
    "print(y_test.shape)"
   ]
  },
  {
   "cell_type": "code",
   "execution_count": 18,
   "metadata": {},
   "outputs": [
    {
     "data": {
      "text/plain": [
       "array([[ 68,  68,  68, ..., 163, 163, 163],\n",
       "       [ 68,  68,  68, ..., 158, 158, 158],\n",
       "       [ 68,  68,  68, ...,  88,  74,  74],\n",
       "       ...,\n",
       "       [177, 177, 177, ...,  68,  68,  68],\n",
       "       [174, 174, 174, ...,  68,  68,  68],\n",
       "       [178, 178, 178, ...,  68,  68,  68]], dtype=uint8)"
      ]
     },
     "execution_count": 18,
     "metadata": {},
     "output_type": "execute_result"
    }
   ],
   "source": [
    "X_train"
   ]
  },
  {
   "cell_type": "markdown",
   "metadata": {},
   "source": [
    "# 2. Building the Model"
   ]
  },
  {
   "cell_type": "markdown",
   "metadata": {},
   "source": [
    "### 2.1 Adding Layers"
   ]
  },
  {
   "cell_type": "code",
   "execution_count": 19,
   "metadata": {},
   "outputs": [],
   "source": [
    "def build_Model(B,R,T):\n",
    "    ##Set random seeds\n",
    "    np.random.seed(23)\n",
    "    tf.set_random_seed(23)\n",
    "    \n",
    "    #Create a model\n",
    "    model = keras.models.Sequential()\n",
    "    \n",
    "    #Add layers\n",
    "    #First hidden layer\n",
    "    model.add(\n",
    "         keras.layers.Dense(\n",
    "                            units = int(B*B*R),\n",
    "                            input_dim = B*B,\n",
    "                            kernel_initializer = 'glorot_uniform',\n",
    "                            bias_initializer='zeros',\n",
    "                            activation = 'relu'))\n",
    "\n",
    "    #First Reconstruction Layer\n",
    "    model.add(\n",
    "         keras.layers.Dense(\n",
    "                            units = B*B*T,\n",
    "                            input_dim = B*B*R,\n",
    "                            kernel_initializer = 'glorot_uniform',\n",
    "                            bias_initializer='zeros',\n",
    "                            activation = 'relu'))\n",
    "\n",
    "    #Second Reconstruction Layer\n",
    "    model.add(\n",
    "         keras.layers.Dense(\n",
    "                            units = B*B*T,\n",
    "                            input_dim = B*B*T,\n",
    "                            kernel_initializer = 'glorot_uniform',\n",
    "                            bias_initializer='zeros',\n",
    "                            activation = 'relu'))\n",
    "\n",
    "    #Output Layer\n",
    "    #If you don't specify any activation, no activation is applied. \"linear\" activation: a(x) = x).\n",
    "    model.add(\n",
    "         keras.layers.Dense(\n",
    "                            units = B*B,\n",
    "                            input_dim = B*B*T,\n",
    "                            kernel_initializer = 'glorot_uniform',\n",
    "                            bias_initializer='zeros'))\n",
    "    return model"
   ]
  },
  {
   "cell_type": "code",
   "execution_count": 20,
   "metadata": {},
   "outputs": [],
   "source": [
    "model = build_Model(B,R,T)"
   ]
  },
  {
   "cell_type": "code",
   "execution_count": 21,
   "metadata": {},
   "outputs": [],
   "source": [
    "#A custome metric function\n",
    "#https://en.wikipedia.org/wiki/Peak_signal-to-noise_ratio\n",
    "\n",
    "def PSNR(y_true, y_pred):\n",
    "    \n",
    "    max_I = 255.0 \n",
    "    \n",
    "    loge = 10.0 * backend.log((max_I ** 2) / (backend.mean(backend.square(y_pred - y_true)))) \n",
    "    log10 = loge/backend.log(10.0)#backend.log is not base 10\n",
    "    \n",
    "    return log10"
   ]
  },
  {
   "cell_type": "markdown",
   "metadata": {},
   "source": [
    "### 2.2 Optimizer and Cost Function"
   ]
  },
  {
   "cell_type": "code",
   "execution_count": 22,
   "metadata": {},
   "outputs": [],
   "source": [
    "#Choose optimizer and a cost function\n",
    "\n",
    "RMSprop_optimizer = keras.optimizers.RMSprop(lr=0.00001, rho=0.9, epsilon=None, decay=1e-7)\n",
    "\n",
    "model.compile(optimizer = RMSprop_optimizer , loss = 'mean_squared_error', metrics=[PSNR])"
   ]
  },
  {
   "cell_type": "code",
   "execution_count": 23,
   "metadata": {},
   "outputs": [
    {
     "name": "stdout",
     "output_type": "stream",
     "text": [
      "_________________________________________________________________\n",
      "Layer (type)                 Output Shape              Param #   \n",
      "=================================================================\n",
      "dense_1 (Dense)              (None, 16)                1040      \n",
      "_________________________________________________________________\n",
      "dense_2 (Dense)              (None, 512)               8704      \n",
      "_________________________________________________________________\n",
      "dense_3 (Dense)              (None, 512)               262656    \n",
      "_________________________________________________________________\n",
      "dense_4 (Dense)              (None, 64)                32832     \n",
      "=================================================================\n",
      "Total params: 305,232\n",
      "Trainable params: 305,232\n",
      "Non-trainable params: 0\n",
      "_________________________________________________________________\n",
      "None\n"
     ]
    }
   ],
   "source": [
    "print(model.summary())"
   ]
  },
  {
   "cell_type": "markdown",
   "metadata": {},
   "source": [
    "### 2.3 Callbacks"
   ]
  },
  {
   "cell_type": "code",
   "execution_count": 24,
   "metadata": {},
   "outputs": [],
   "source": [
    "class LossHistory(keras.callbacks.Callback):\n",
    "    def on_train_begin(self, logs={}):\n",
    "        self.losses = []\n",
    "        self.PSNR = []\n",
    "\n",
    "    def on_batch_end(self, batch, logs={}):\n",
    "        self.losses.append(logs.get('loss'))\n",
    "        self.PSNR.append(logs.get('PSNR'))"
   ]
  },
  {
   "cell_type": "code",
   "execution_count": 25,
   "metadata": {},
   "outputs": [],
   "source": [
    "loss_history = LossHistory()"
   ]
  },
  {
   "cell_type": "markdown",
   "metadata": {},
   "source": [
    "### 2.3 Training the model"
   ]
  },
  {
   "cell_type": "code",
   "execution_count": 26,
   "metadata": {},
   "outputs": [
    {
     "name": "stdout",
     "output_type": "stream",
     "text": [
      "Train on 860160 samples, validate on 368640 samples\n",
      "Epoch 1/50\n",
      "860160/860160 [==============================] - 64s 75us/step - loss: 267.9846 - PSNR: 31.4900 - val_loss: 30.9289 - val_PSNR: 36.2500\n",
      "Epoch 2/50\n",
      "860160/860160 [==============================] - 54s 63us/step - loss: 26.9736 - PSNR: 35.3309 - val_loss: 23.6556 - val_PSNR: 37.7684\n",
      "Epoch 3/50\n",
      "860160/860160 [==============================] - 54s 63us/step - loss: 22.0507 - PSNR: 36.2888 - val_loss: 20.0323 - val_PSNR: 38.8355\n",
      "Epoch 4/50\n",
      "860160/860160 [==============================] - 54s 62us/step - loss: 19.3203 - PSNR: 36.8738 - val_loss: 18.2705 - val_PSNR: 38.9681\n",
      "Epoch 5/50\n",
      "860160/860160 [==============================] - 54s 63us/step - loss: 17.6681 - PSNR: 37.3277 - val_loss: 16.8467 - val_PSNR: 39.4477\n",
      "Epoch 6/50\n",
      "860160/860160 [==============================] - 53s 62us/step - loss: 16.4835 - PSNR: 37.6290 - val_loss: 15.6254 - val_PSNR: 40.1820\n",
      "Epoch 7/50\n",
      "860160/860160 [==============================] - 53s 62us/step - loss: 15.4774 - PSNR: 37.9107 - val_loss: 14.6472 - val_PSNR: 40.5095\n",
      "Epoch 8/50\n",
      "860160/860160 [==============================] - 54s 62us/step - loss: 14.6153 - PSNR: 38.1906 - val_loss: 14.0147 - val_PSNR: 40.4675\n",
      "Epoch 9/50\n",
      "860160/860160 [==============================] - 54s 62us/step - loss: 13.9336 - PSNR: 38.3971 - val_loss: 13.8845 - val_PSNR: 39.8227\n",
      "Epoch 10/50\n",
      "860160/860160 [==============================] - 53s 62us/step - loss: 13.3691 - PSNR: 38.5726 - val_loss: 13.3088 - val_PSNR: 40.0747\n",
      "Epoch 11/50\n",
      "860160/860160 [==============================] - 54s 63us/step - loss: 12.8933 - PSNR: 38.7257 - val_loss: 12.4099 - val_PSNR: 41.1597\n",
      "Epoch 12/50\n",
      "860160/860160 [==============================] - 54s 62us/step - loss: 12.4872 - PSNR: 38.8590 - val_loss: 12.0867 - val_PSNR: 41.1068\n",
      "Epoch 13/50\n",
      "860160/860160 [==============================] - 53s 62us/step - loss: 12.1273 - PSNR: 39.0005 - val_loss: 11.6520 - val_PSNR: 41.5379\n",
      "Epoch 14/50\n",
      "860160/860160 [==============================] - 53s 62us/step - loss: 11.8027 - PSNR: 39.1112 - val_loss: 11.4765 - val_PSNR: 41.2449\n",
      "Epoch 15/50\n",
      "860160/860160 [==============================] - 54s 62us/step - loss: 11.5170 - PSNR: 39.2403 - val_loss: 11.1279 - val_PSNR: 41.5861\n",
      "Epoch 16/50\n",
      "860160/860160 [==============================] - 53s 62us/step - loss: 11.2521 - PSNR: 39.2887 - val_loss: 10.9397 - val_PSNR: 41.4937\n",
      "Epoch 17/50\n",
      "860160/860160 [==============================] - 53s 62us/step - loss: 11.0143 - PSNR: 39.4114 - val_loss: 10.9810 - val_PSNR: 40.9904\n",
      "Epoch 18/50\n",
      "860160/860160 [==============================] - 54s 62us/step - loss: 10.7890 - PSNR: 39.5258 - val_loss: 10.4014 - val_PSNR: 42.0266\n",
      "Epoch 19/50\n",
      "860160/860160 [==============================] - 53s 62us/step - loss: 10.5876 - PSNR: 39.5468 - val_loss: 10.3481 - val_PSNR: 41.6256\n",
      "Epoch 20/50\n",
      "860160/860160 [==============================] - 53s 62us/step - loss: 10.3979 - PSNR: 39.6672 - val_loss: 10.0344 - val_PSNR: 42.1135\n",
      "Epoch 21/50\n",
      "860160/860160 [==============================] - 53s 62us/step - loss: 10.2214 - PSNR: 39.7148 - val_loss: 10.0873 - val_PSNR: 41.5810\n",
      "Epoch 22/50\n",
      "860160/860160 [==============================] - 54s 62us/step - loss: 10.0546 - PSNR: 39.8236 - val_loss: 9.7626 - val_PSNR: 42.0789\n",
      "Epoch 23/50\n",
      "860160/860160 [==============================] - 53s 62us/step - loss: 9.9005 - PSNR: 39.8774 - val_loss: 9.7184 - val_PSNR: 41.8307\n",
      "Epoch 24/50\n",
      "860160/860160 [==============================] - 53s 62us/step - loss: 9.7540 - PSNR: 39.9346 - val_loss: 9.8926 - val_PSNR: 41.2448\n",
      "Epoch 25/50\n",
      "860160/860160 [==============================] - 54s 62us/step - loss: 9.6164 - PSNR: 39.9866 - val_loss: 9.3093 - val_PSNR: 42.3976\n",
      "Epoch 26/50\n",
      "860160/860160 [==============================] - 53s 62us/step - loss: 9.4872 - PSNR: 40.0352 - val_loss: 9.1428 - val_PSNR: 42.5876\n",
      "Epoch 27/50\n",
      "860160/860160 [==============================] - 53s 62us/step - loss: 9.3672 - PSNR: 40.1108 - val_loss: 9.1334 - val_PSNR: 42.2876\n",
      "Epoch 28/50\n",
      "860160/860160 [==============================] - 54s 62us/step - loss: 9.2484 - PSNR: 40.1537 - val_loss: 9.0719 - val_PSNR: 42.1669\n",
      "Epoch 29/50\n",
      "860160/860160 [==============================] - 53s 62us/step - loss: 9.1375 - PSNR: 40.2043 - val_loss: 9.3131 - val_PSNR: 41.4556\n",
      "Epoch 30/50\n",
      "860160/860160 [==============================] - 53s 62us/step - loss: 9.0304 - PSNR: 40.2748 - val_loss: 8.7828 - val_PSNR: 42.5126\n",
      "Epoch 31/50\n",
      "860160/860160 [==============================] - 53s 62us/step - loss: 8.9278 - PSNR: 40.3232 - val_loss: 8.7780 - val_PSNR: 42.2738\n",
      "Epoch 32/50\n",
      "860160/860160 [==============================] - 54s 62us/step - loss: 8.8260 - PSNR: 40.3981 - val_loss: 8.8126 - val_PSNR: 41.9962\n",
      "Epoch 33/50\n",
      "860160/860160 [==============================] - 53s 62us/step - loss: 8.7278 - PSNR: 40.4068 - val_loss: 8.8069 - val_PSNR: 41.8437\n",
      "Epoch 34/50\n",
      "860160/860160 [==============================] - 53s 62us/step - loss: 8.6313 - PSNR: 40.4703 - val_loss: 8.3206 - val_PSNR: 42.9907\n",
      "Epoch 35/50\n",
      "860160/860160 [==============================] - 54s 62us/step - loss: 8.5292 - PSNR: 40.5037 - val_loss: 8.2012 - val_PSNR: 43.0933\n",
      "Epoch 36/50\n",
      "860160/860160 [==============================] - 53s 62us/step - loss: 8.4277 - PSNR: 40.5509 - val_loss: 8.2660 - val_PSNR: 42.5811\n",
      "Epoch 37/50\n",
      "860160/860160 [==============================] - 53s 62us/step - loss: 8.3356 - PSNR: 40.5981 - val_loss: 8.6286 - val_PSNR: 41.6308\n",
      "Epoch 38/50\n",
      "860160/860160 [==============================] - 54s 62us/step - loss: 8.2487 - PSNR: 40.6560 - val_loss: 7.9740 - val_PSNR: 43.0757\n",
      "Epoch 39/50\n",
      "860160/860160 [==============================] - 53s 62us/step - loss: 8.1668 - PSNR: 40.7078 - val_loss: 7.9721 - val_PSNR: 42.8247\n",
      "Epoch 40/50\n",
      "860160/860160 [==============================] - 53s 62us/step - loss: 8.0903 - PSNR: 40.7334 - val_loss: 7.9788 - val_PSNR: 42.6206\n",
      "Epoch 41/50\n",
      "860160/860160 [==============================] - 53s 62us/step - loss: 8.0172 - PSNR: 40.7703 - val_loss: 7.8998 - val_PSNR: 42.6801\n",
      "Epoch 42/50\n",
      "860160/860160 [==============================] - 54s 62us/step - loss: 7.9474 - PSNR: 40.7844 - val_loss: 7.9299 - val_PSNR: 42.4852\n",
      "Epoch 43/50\n",
      "860160/860160 [==============================] - 53s 62us/step - loss: 7.8823 - PSNR: 40.8505 - val_loss: 7.7758 - val_PSNR: 42.7327\n",
      "Epoch 44/50\n",
      "860160/860160 [==============================] - 53s 62us/step - loss: 7.8184 - PSNR: 40.8696 - val_loss: 7.5436 - val_PSNR: 43.3774\n",
      "Epoch 45/50\n",
      "860160/860160 [==============================] - 54s 62us/step - loss: 7.7560 - PSNR: 40.9233 - val_loss: 7.6395 - val_PSNR: 42.8441\n",
      "Epoch 46/50\n",
      "860160/860160 [==============================] - 53s 62us/step - loss: 7.6972 - PSNR: 40.9300 - val_loss: 7.6134 - val_PSNR: 42.7709\n",
      "Epoch 47/50\n",
      "860160/860160 [==============================] - 53s 62us/step - loss: 7.6416 - PSNR: 40.9709 - val_loss: 7.6003 - val_PSNR: 42.6858\n",
      "Epoch 48/50\n",
      "860160/860160 [==============================] - 53s 62us/step - loss: 7.5859 - PSNR: 41.0290 - val_loss: 7.5662 - val_PSNR: 42.6672\n",
      "Epoch 49/50\n",
      "860160/860160 [==============================] - 54s 62us/step - loss: 7.5328 - PSNR: 41.0209 - val_loss: 7.2952 - val_PSNR: 43.4391\n",
      "Epoch 50/50\n",
      "860160/860160 [==============================] - 53s 62us/step - loss: 7.4834 - PSNR: 41.0352 - val_loss: 7.5990 - val_PSNR: 42.3963\n"
     ]
    }
   ],
   "source": [
    "#Training\n",
    "history = model.fit(X_train, y_train,\n",
    "                    batch_size=64, epochs =50,\n",
    "                    verbose = 1,\n",
    "                    validation_data=(X_test, y_test),\n",
    "                    callbacks=[loss_history])"
   ]
  },
  {
   "cell_type": "markdown",
   "metadata": {},
   "source": [
    "#### 2.3.1 Saving the Model and the History"
   ]
  },
  {
   "cell_type": "code",
   "execution_count": 27,
   "metadata": {},
   "outputs": [
    {
     "name": "stdout",
     "output_type": "stream",
     "text": [
      "Saved model to disk\n"
     ]
    }
   ],
   "source": [
    "#Saving the model\n",
    "\n",
    "model_json = model.to_json()\n",
    "\n",
    "with open(\"model3_B8_4.json\", \"w\") as json_file:\n",
    "    json_file.write(model_json)\n",
    "    \n",
    "model.save_weights(\"model3_B8_4.h5\")\n",
    "print(\"Saved model to disk\")"
   ]
  },
  {
   "cell_type": "code",
   "execution_count": 28,
   "metadata": {},
   "outputs": [],
   "source": [
    "#save the history of training\n",
    "import pickle\n",
    "pickle_out = open(\"history3_B8_4.pickle\",\"wb\")\n",
    "pickle.dump(history.history, pickle_out)\n",
    "pickle_out.close()"
   ]
  },
  {
   "cell_type": "markdown",
   "metadata": {},
   "source": [
    "#### 2.3.2 Uploading the Model and the History "
   ]
  },
  {
   "cell_type": "code",
   "execution_count": null,
   "metadata": {},
   "outputs": [],
   "source": [
    "#load your model\n",
    "\n",
    "json_file = open('model3_B8.json', 'r')\n",
    "loaded_model_json = json_file.read()\n",
    "json_file.close()\n",
    "\n",
    "model = model_from_json(loaded_model_json)\n",
    "\n",
    "model.load_weights(\"model3_B8.h5\")\n"
   ]
  },
  {
   "cell_type": "code",
   "execution_count": null,
   "metadata": {},
   "outputs": [],
   "source": [
    "#if you load your model and weight you need to compile it again\n",
    "model.compile(optimizer = adam_optimizer , loss = 'mean_squared_error', metrics=[PSNR])"
   ]
  },
  {
   "cell_type": "markdown",
   "metadata": {},
   "source": [
    "# 3.Predicting"
   ]
  },
  {
   "cell_type": "code",
   "execution_count": 29,
   "metadata": {},
   "outputs": [
    {
     "name": "stdout",
     "output_type": "stream",
     "text": [
      "860160/860160 [==============================] - 21s 25us/step\n",
      "368640/368640 [==============================] - 9s 25us/step\n"
     ]
    }
   ],
   "source": [
    "y_train_pred = model.predict(X_train,verbose = 1)\n",
    "y_test_pred = model.predict(X_test,verbose = 1)"
   ]
  },
  {
   "cell_type": "code",
   "execution_count": 30,
   "metadata": {},
   "outputs": [
    {
     "data": {
      "text/plain": [
       "array([[ 52.766544,  73.138435,  68.2305  , ..., 162.5788  , 163.0621  ,\n",
       "        162.4753  ],\n",
       "       [ 62.964317,  59.934967,  73.21729 , ..., 148.82607 , 155.78584 ,\n",
       "        163.26828 ],\n",
       "       [ 69.31316 ,  63.87203 ,  70.3191  , ...,  86.00225 ,  63.658466,\n",
       "         81.4102  ],\n",
       "       ...,\n",
       "       [175.82668 , 175.94214 , 176.42845 , ...,  68.34441 ,  67.36859 ,\n",
       "         67.38084 ],\n",
       "       [172.11392 , 172.6265  , 173.69403 , ...,  66.317955,  66.05919 ,\n",
       "         68.66221 ],\n",
       "       [178.41922 , 177.19487 , 181.11649 , ...,  66.75647 ,  68.41084 ,\n",
       "         63.609203]], dtype=float32)"
      ]
     },
     "execution_count": 30,
     "metadata": {},
     "output_type": "execute_result"
    }
   ],
   "source": [
    "y_train_pred"
   ]
  },
  {
   "cell_type": "code",
   "execution_count": 31,
   "metadata": {},
   "outputs": [
    {
     "data": {
      "text/plain": [
       "array([[ 52.766544,  73.138435,  68.2305  , ..., 162.5788  , 163.0621  ,\n",
       "        162.4753  ],\n",
       "       [ 73.195404,  64.91249 ,  62.597706, ..., 157.74524 , 192.21234 ,\n",
       "        188.23416 ],\n",
       "       [ 61.994167,  64.51957 ,  66.93811 , ...,  82.70611 ,  53.63382 ,\n",
       "         77.975746],\n",
       "       ...,\n",
       "       [177.58641 , 177.21384 , 177.40529 , ...,  65.303085,  64.475784,\n",
       "         64.340416],\n",
       "       [173.74971 , 174.18341 , 175.09683 , ...,  65.210915,  65.18635 ,\n",
       "         66.603935],\n",
       "       [174.43716 , 173.74315 , 178.17357 , ...,  62.36797 ,  66.38448 ,\n",
       "         61.67206 ]], dtype=float32)"
      ]
     },
     "execution_count": 31,
     "metadata": {},
     "output_type": "execute_result"
    }
   ],
   "source": [
    "y_test_pred"
   ]
  },
  {
   "cell_type": "markdown",
   "metadata": {},
   "source": [
    "# 4. Evaluation"
   ]
  },
  {
   "cell_type": "code",
   "execution_count": 32,
   "metadata": {},
   "outputs": [
    {
     "name": "stdout",
     "output_type": "stream",
     "text": [
      "860160/860160 [==============================] - 1s 1us/step\n",
      "Training PSNR:\n",
      "PSNR: 39.32%\n"
     ]
    }
   ],
   "source": [
    "#Evaluate on the whole image\n",
    "imgL = int(img_shape[0]*img_shape[1]/(B*B))\n",
    "\n",
    "\n",
    "scores_Train = model.evaluate(X_train, y_train, verbose=1,batch_size=imgL)\n",
    "\n",
    "print(\"Training PSNR:\")\n",
    "print(\"%s: %.2f%%\" % (model.metrics_names[1], scores_Train[1]))"
   ]
  },
  {
   "cell_type": "code",
   "execution_count": 33,
   "metadata": {},
   "outputs": [
    {
     "name": "stdout",
     "output_type": "stream",
     "text": [
      "368640/368640 [==============================] - 0s 1us/step\n",
      "Test PSNR:\n",
      "PSNR: 39.34%\n"
     ]
    }
   ],
   "source": [
    "scores_Test = model.evaluate(X_test, y_test, verbose=1,batch_size=imgL)\n",
    "\n",
    "print(\"Test PSNR:\")\n",
    "print(\"%s: %.2f%%\" % (model.metrics_names[1], scores_Test[1]))"
   ]
  },
  {
   "cell_type": "markdown",
   "metadata": {},
   "source": [
    "### 4.1 Plots"
   ]
  },
  {
   "cell_type": "code",
   "execution_count": 34,
   "metadata": {},
   "outputs": [
    {
     "data": {
      "image/png": "[encoded data removed]",
      "text/plain": [
       "<Figure size 432x288 with 1 Axes>"
      ]
     },
     "metadata": {},
     "output_type": "display_data"
    }
   ],
   "source": [
    "#plotting Loss\n",
    "plt.plot(history.history['loss'])\n",
    "plt.plot(history.history['val_loss'])\n",
    "plt.title('Model Loss')\n",
    "plt.ylabel('Loss')\n",
    "plt.xlabel('Epoch')\n",
    "plt.legend(['Train', 'Test'], loc='upper left')\n",
    "plt.show()"
   ]
  },
  {
   "cell_type": "code",
   "execution_count": 35,
   "metadata": {},
   "outputs": [
    {
     "data": {
      "image/png": "[encoded data removed]",
      "text/plain": [
       "<Figure size 432x288 with 1 Axes>"
      ]
     },
     "metadata": {},
     "output_type": "display_data"
    }
   ],
   "source": [
    "#plotting PSNR\n",
    "plt.plot(history.history['PSNR'])\n",
    "plt.plot(history.history['val_PSNR'])\n",
    "plt.title('Model PSNR')\n",
    "plt.ylabel('PSNR')\n",
    "plt.xlabel('Epoch')\n",
    "plt.legend(['Train', 'Test'], loc='upper left')\n",
    "plt.show()"
   ]
  },
  {
   "cell_type": "markdown",
   "metadata": {},
   "source": [
    "# 5. Reconstrcut the predicted images"
   ]
  },
  {
   "cell_type": "markdown",
   "metadata": {},
   "source": [
    "### 5.1 Function: reconstrcution"
   ]
  },
  {
   "cell_type": "code",
   "execution_count": 36,
   "metadata": {},
   "outputs": [],
   "source": [
    "#number of rows for each image = (len(image)xlen(image[0])/B^2\n",
    "#gets an array and reconstruct the images\n",
    "def building_output(result,img_shape):\n",
    "    \n",
    "    imgL = int(img_shape[0]*img_shape[1]/(B*B))\n",
    "    out_put = []\n",
    "    \n",
    "    for i in range(0,len(result),imgL):\n",
    "        out_put.append(decompression(result[i:i+imgL],B,img_shape))\n",
    "    \n",
    "    return out_put"
   ]
  },
  {
   "cell_type": "markdown",
   "metadata": {},
   "source": [
    "### 5.2 Reconstrcuting train and test"
   ]
  },
  {
   "cell_type": "code",
   "execution_count": 37,
   "metadata": {},
   "outputs": [],
   "source": [
    "#reconstructing training predictions\n",
    "dec_img_train = building_output(y_train_pred,img_shape)\n",
    "\n",
    "#reconstructing test predictions\n",
    "dec_img_test = building_output(y_test_pred,img_shape)"
   ]
  },
  {
   "cell_type": "code",
   "execution_count": 38,
   "metadata": {},
   "outputs": [
    {
     "name": "stdout",
     "output_type": "stream",
     "text": [
      "70\n",
      "30\n"
     ]
    }
   ],
   "source": [
    "#test\n",
    "print(len(dec_img_train))\n",
    "print(len(dec_img_test))"
   ]
  },
  {
   "cell_type": "markdown",
   "metadata": {},
   "source": [
    "### 5.3 Plotting images"
   ]
  },
  {
   "cell_type": "code",
   "execution_count": 40,
   "metadata": {},
   "outputs": [
    {
     "data": {
      "image/png": "[encoded data removed]",
      "text/plain": [
       "<Figure size 432x288 with 1 Axes>"
      ]
     },
     "metadata": {},
     "output_type": "display_data"
    },
    {
     "data": {
      "image/png": "[encoded data removed]",
      "text/plain": [
       "<Figure size 432x288 with 1 Axes>"
      ]
     },
     "metadata": {},
     "output_type": "display_data"
    },
    {
     "name": "stdout",
     "output_type": "stream",
     "text": [
      "39.42930815270186\n"
     ]
    }
   ],
   "source": [
    "#train\n",
    "img_in=X_train_Or[50]\n",
    "img_out = dec_img_train[50]\n",
    "imgplot = plt.imshow(img_in,cmap='gray')\n",
    "plt.show()\n",
    "imgplot = plt.imshow(img_out,cmap='gray')\n",
    "plt.show()\n",
    "print(PSNR_Final(img_in,img_out))#PSNR_Final is in section 5.4"
   ]
  },
  {
   "cell_type": "code",
   "execution_count": 41,
   "metadata": {},
   "outputs": [
    {
     "data": {
      "image/png": "[encoded data removed]",
      "text/plain": [
       "<Figure size 432x288 with 1 Axes>"
      ]
     },
     "metadata": {},
     "output_type": "display_data"
    },
    {
     "data": {
      "image/png": "[encoded data removed]",
      "text/plain": [
       "<Figure size 432x288 with 1 Axes>"
      ]
     },
     "metadata": {},
     "output_type": "display_data"
    },
    {
     "name": "stdout",
     "output_type": "stream",
     "text": [
      "39.71024346135497\n"
     ]
    }
   ],
   "source": [
    "#test\n",
    "img_in_t=X_test_Or[15]\n",
    "img_out_t = dec_img_test[15]\n",
    "imgplot = plt.imshow(img_in_t,cmap='gray')\n",
    "plt.show()\n",
    "imgplot = plt.imshow(img_out_t,cmap='gray')\n",
    "plt.show()\n",
    "print(PSNR_Final(img_in_t,img_out_t))"
   ]
  },
  {
   "cell_type": "markdown",
   "metadata": {},
   "source": [
    "### 5.3 Saving images"
   ]
  },
  {
   "cell_type": "code",
   "execution_count": 42,
   "metadata": {},
   "outputs": [],
   "source": [
    "def save_images_to_folder(folder,img_name,images):\n",
    "    path = folder+\"/\"+ img_name\n",
    "    for i,im in enumerate(images):\n",
    "        cv2.imwrite(path+str(i)+'.png',im)  \n",
    "    return "
   ]
  },
  {
   "cell_type": "code",
   "execution_count": 43,
   "metadata": {},
   "outputs": [],
   "source": [
    "#saving the precited images\n",
    "save_images_to_folder('train_pred','train_p_B8_4_',dec_img_train)\n",
    "save_images_to_folder('test_pred','test_p_B8_4_',dec_img_test)"
   ]
  },
  {
   "cell_type": "markdown",
   "metadata": {},
   "source": [
    "### 5.4 Find the average PSNR "
   ]
  },
  {
   "cell_type": "code",
   "execution_count": 39,
   "metadata": {},
   "outputs": [],
   "source": [
    "#Calculate PSNR on the whole image\n",
    "def PSNR_Final(y_true, y_pred):\n",
    "    max_I = 255.0 \n",
    "    tmp =  np.mean(np.square(y_pred - y_true))\n",
    "    log_res = 10 * np.log10((max_I ** 2) /tmp)\n",
    "    \n",
    "    return log_res"
   ]
  },
  {
   "cell_type": "code",
   "execution_count": 44,
   "metadata": {},
   "outputs": [],
   "source": [
    "#calcualte the average PSNR on a data set\n",
    "def cal_PSNR_Dataset(output_images,input_images):\n",
    "    res_psnr = []\n",
    "    for i,o in enumerate(output_images):\n",
    "        res_psnr.append(PSNR_Final(input_images[i],o))\n",
    "    return res_psnr"
   ]
  },
  {
   "cell_type": "code",
   "execution_count": 45,
   "metadata": {},
   "outputs": [
    {
     "name": "stdout",
     "output_type": "stream",
     "text": [
      "average PSNR on training:  39.31628521652831\n"
     ]
    }
   ],
   "source": [
    "res_psnr_train = cal_PSNR_Dataset(dec_img_train,X_train_Or)\n",
    "print(\"average PSNR on training: \",np.mean(res_psnr_train))"
   ]
  },
  {
   "cell_type": "code",
   "execution_count": 46,
   "metadata": {},
   "outputs": [
    {
     "data": {
      "text/plain": [
       "[38.98138223248108,\n",
       " 39.097745260112575,\n",
       " 39.409801708706134,\n",
       " 39.47416055115208,\n",
       " 39.626877846099255,\n",
       " 40.13202483118964,\n",
       " 38.78050560451517,\n",
       " 38.61772247589204,\n",
       " 39.534483494598014,\n",
       " 38.96433069283324,\n",
       " 38.833606694820595,\n",
       " 39.67790451891829,\n",
       " 39.570335145648016,\n",
       " 39.88289097414763,\n",
       " 39.664028466858355,\n",
       " 39.042189420653905,\n",
       " 38.89886518656388,\n",
       " 39.074874507740006,\n",
       " 39.488705321498074,\n",
       " 38.59802149674234,\n",
       " 39.60230328850165,\n",
       " 39.699730022608236,\n",
       " 40.10221356987586,\n",
       " 39.46073866031591,\n",
       " 39.31856446145381,\n",
       " 38.62728774909064,\n",
       " 38.777546276259564,\n",
       " 39.232125206815425,\n",
       " 39.585664635667285,\n",
       " 39.66274030208555,\n",
       " 39.049235170619156,\n",
       " 39.41762762798325,\n",
       " 39.258518759287064,\n",
       " 39.45398922237484,\n",
       " 39.70976930156691,\n",
       " 39.627964175710105,\n",
       " 39.43098650231076,\n",
       " 39.09978436845079,\n",
       " 39.63904194392291,\n",
       " 39.482923990418705,\n",
       " 38.9266000611751,\n",
       " 38.957031846073804,\n",
       " 38.785245044064936,\n",
       " 39.83934733852784,\n",
       " 39.33166461440018,\n",
       " 38.74114729455677,\n",
       " 38.80268460431353,\n",
       " 38.98073764600129,\n",
       " 39.03892032414288,\n",
       " 39.163489404147974,\n",
       " 39.42930815270186,\n",
       " 39.14584843488019,\n",
       " 39.63924187299384,\n",
       " 39.586616552305046,\n",
       " 39.66485377288589,\n",
       " 39.7353102347929,\n",
       " 39.09513655792468,\n",
       " 38.80638590869935,\n",
       " 39.636061694747205,\n",
       " 39.809590388692584,\n",
       " 39.6654379146682,\n",
       " 39.351274944719265,\n",
       " 39.75312522490545,\n",
       " 39.4616260144059,\n",
       " 39.35029811581254,\n",
       " 39.03728435276178,\n",
       " 38.966114136881004,\n",
       " 39.04584903473963,\n",
       " 39.09087863860413,\n",
       " 39.71364336496721]"
      ]
     },
     "execution_count": 46,
     "metadata": {},
     "output_type": "execute_result"
    }
   ],
   "source": [
    "res_psnr_train"
   ]
  },
  {
   "cell_type": "code",
   "execution_count": 47,
   "metadata": {},
   "outputs": [
    {
     "name": "stdout",
     "output_type": "stream",
     "text": [
      "average PSNR on the test set:  39.33530254192251\n"
     ]
    }
   ],
   "source": [
    "res_psnr_test = cal_PSNR_Dataset(dec_img_test,X_test_Or)\n",
    "print(\"average PSNR on the test set: \",np.mean(res_psnr_test))"
   ]
  },
  {
   "cell_type": "code",
   "execution_count": 50,
   "metadata": {
    "scrolled": false
   },
   "outputs": [
    {
     "data": {
      "text/plain": [
       "[39.31867619944832,\n",
       " 39.505898646000844,\n",
       " 39.887652444084466,\n",
       " 39.51045032454966,\n",
       " 39.3581009258388,\n",
       " 39.31100256270535,\n",
       " 38.74961583451197,\n",
       " 39.7208584906067,\n",
       " 39.40921048893061,\n",
       " 39.42604934627098,\n",
       " 39.35500146082976,\n",
       " 39.7176328106203,\n",
       " 38.614255618466856,\n",
       " 39.33679211035024,\n",
       " 39.76431689480995,\n",
       " 39.71024346135497,\n",
       " 39.37457163525199,\n",
       " 39.10888632361243,\n",
       " 39.46540937749109,\n",
       " 39.522382652237575,\n",
       " 39.61313183971453,\n",
       " 38.93951199680126,\n",
       " 39.388167514265675,\n",
       " 39.11208401554841,\n",
       " 39.41632948492417,\n",
       " 39.03842594269872,\n",
       " 39.5613583628632,\n",
       " 38.56975049606245,\n",
       " 39.03941638443305,\n",
       " 39.213892612390936]"
      ]
     },
     "execution_count": 50,
     "metadata": {},
     "output_type": "execute_result"
    }
   ],
   "source": [
    "res_psnr_test"
   ]
  },
  {
   "cell_type": "code",
   "execution_count": null,
   "metadata": {},
   "outputs": [],
   "source": []
  }
 ],
 "metadata": {
  "kernelspec": {
   "display_name": "Python 3",
   "language": "python",
   "name": "python3"
  },
  "language_info": {
   "codemirror_mode": {
    "name": "ipython",
    "version": 3
   },
   "file_extension": ".py",
   "mimetype": "text/x-python",
   "name": "python",
   "nbconvert_exporter": "python",
   "pygments_lexer": "ipython3",
   "version": "3.6.7"
  }
 },
 "nbformat": 4,
 "nbformat_minor": 2
}
