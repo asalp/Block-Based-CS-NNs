{
 "cells": [
  {
   "cell_type": "code",
   "execution_count": 27,
   "metadata": {},
   "outputs": [
    {
     "name": "stdout",
     "output_type": "stream",
     "text": [
      "Populating the interactive namespace from numpy and matplotlib\n"
     ]
    },
    {
     "name": "stderr",
     "output_type": "stream",
     "text": [
      "/home/ubuntu/anaconda3/envs/tensorflow_p36/lib/python3.6/site-packages/IPython/core/magics/pylab.py:160: UserWarning: pylab import has clobbered these variables: ['test', 'random']\n",
      "`%matplotlib` prevents importing * from pylab and numpy\n",
      "  \"\\n`%matplotlib` prevents importing * from pylab and numpy\"\n"
     ]
    }
   ],
   "source": [
    "#Importing libraries\n",
    "import tensorflow as tf\n",
    "import keras \n",
    "from keras.models import model_from_json\n",
    "from keras import backend\n",
    "import numpy as np\n",
    "\n",
    "import cv2\n",
    "\n",
    "%pylab inline\n",
    "import matplotlib.pyplot as plt\n",
    "import matplotlib.image as matp\n",
    "\n",
    "import scipy.ndimage\n",
    "from scipy import misc\n",
    "\n",
    "#Randomly choosing pictures\n",
    "import os\n",
    "import random\n",
    "\n",
    "import math\n",
    "from sklearn.model_selection import train_test_split"
   ]
  },
  {
   "cell_type": "markdown",
   "metadata": {},
   "source": [
    "#### Hyper parameters used in the original paper:¶"
   ]
  },
  {
   "cell_type": "code",
   "execution_count": 28,
   "metadata": {},
   "outputs": [],
   "source": [
    "#Block size\n",
    "B = 32\n",
    "\n",
    "#Sensing rate R = M/N\n",
    "#Sensing matrix is MxN\n",
    "R = 0.25\n",
    "\n",
    "#Number of reconstruction layers\n",
    "#K =2 two hidden layers for reconstruction\n",
    "\n",
    "#Redundancy factor\n",
    "T = 8"
   ]
  },
  {
   "cell_type": "markdown",
   "metadata": {},
   "source": [
    "# 1. Data"
   ]
  },
  {
   "cell_type": "markdown",
   "metadata": {},
   "source": [
    "### 1.1 Reading the images from the file"
   ]
  },
  {
   "cell_type": "code",
   "execution_count": 3,
   "metadata": {},
   "outputs": [],
   "source": [
    "#unzipping the file\n",
    "import zipfile\n",
    "zip_ref = zipfile.ZipFile('Data.zip', 'r') \n",
    "zip_ref.extractall('input_data') \n",
    "zip_ref.close()"
   ]
  },
  {
   "cell_type": "code",
   "execution_count": 29,
   "metadata": {},
   "outputs": [],
   "source": [
    "#Reads all the images from the file and save them in a list as Type=unit8\n",
    "#3-channels of the images share the same info. So one channel is only used\n",
    "def load_images_from_folder(folder):\n",
    "    images = []\n",
    "    for filename in os.listdir(folder):\n",
    "        \n",
    "        imagePath = os.path.join(folder,filename)\n",
    "        \n",
    "        if imagePath == folder + '.DS_Store':\n",
    "            continue\n",
    "        else:\n",
    "            img = cv2.imread(imagePath,cv2.IMREAD_UNCHANGED)\n",
    "            if img is not None:\n",
    "                images.append(img[:,:,0])\n",
    "                \n",
    "    return images"
   ]
  },
  {
   "cell_type": "code",
   "execution_count": 30,
   "metadata": {},
   "outputs": [],
   "source": [
    "images = load_images_from_folder('input_data/Data')"
   ]
  },
  {
   "cell_type": "code",
   "execution_count": 31,
   "metadata": {},
   "outputs": [
    {
     "name": "stdout",
     "output_type": "stream",
     "text": [
      "<class 'list'>\n",
      "100\n",
      "(768, 1024)\n",
      "uint8\n"
     ]
    },
    {
     "data": {
      "text/plain": [
       "254"
      ]
     },
     "execution_count": 31,
     "metadata": {},
     "output_type": "execute_result"
    }
   ],
   "source": [
    "#test\n",
    "print(type(images))\n",
    "print(len(images))\n",
    "print(images[0].shape)\n",
    "print(images[0].dtype)\n",
    "np.max(images[0])"
   ]
  },
  {
   "cell_type": "code",
   "execution_count": 32,
   "metadata": {},
   "outputs": [],
   "source": [
    "#image shape\n",
    "img_shape = images[0].shape"
   ]
  },
  {
   "cell_type": "markdown",
   "metadata": {},
   "source": [
    "### 1.2 Compression and Decompression"
   ]
  },
  {
   "cell_type": "code",
   "execution_count": 33,
   "metadata": {},
   "outputs": [],
   "source": [
    "#This function gets all the images and split them into blocks of BxB and save each block into a row of an array\n",
    "def compression(image,B):#B is 16\n",
    "    R = len(image)\n",
    "    C = len(image[0])\n",
    "    res = []\n",
    "    \n",
    "    for r in range(0,R,B):\n",
    "        for c in range(0,C,B):\n",
    "            #segment BxB blocks and faltten them into a vector with len=B^2\n",
    "            tmp = image[r:B+r,c:c+B].flatten()\n",
    "            res.append(tmp)\n",
    "            \n",
    "    return np.asarray(res)    \n",
    "\n",
    "#This function gets an array with shape = (len(image)xlen(image[0])/B^2,B^2)\n",
    "#Returns and image with shape len(image)xlen(image[0]) \n",
    "def decompression(arr,B,img_shape):\n",
    "    numBlocks_R = int(img_shape[0]/B)\n",
    "    numBlocks_C = int(img_shape[1]/B)\n",
    "    \n",
    "    #makes an empty array\n",
    "    newImage=np.empty((img_shape[0],img_shape[1]))\n",
    "    \n",
    "    for r in range(numBlocks_R):\n",
    "        for c in range(numBlocks_C):\n",
    "            \n",
    "            if arr.size != 0:\n",
    "                tmp = arr[0].reshape((B,B))\n",
    "                arr = np.delete(arr,0,0)\n",
    "                newImage[r*B:(r+1)*B , c*B:(c+1)*B] = tmp\n",
    "                \n",
    "    return newImage"
   ]
  },
  {
   "cell_type": "markdown",
   "metadata": {},
   "source": [
    "### 1.3 Function: Compress all the images and save them into a numpy array"
   ]
  },
  {
   "cell_type": "code",
   "execution_count": 34,
   "metadata": {},
   "outputs": [],
   "source": [
    "def building_Input(images,B):\n",
    "    input_X = []\n",
    "    \n",
    "    for i in images:\n",
    "        input_X.extend(compression(i,B))\n",
    "    return np.asarray(input_X)"
   ]
  },
  {
   "cell_type": "code",
   "execution_count": 35,
   "metadata": {},
   "outputs": [],
   "source": [
    "#Test\n",
    "test = building_Input(images,B)"
   ]
  },
  {
   "cell_type": "code",
   "execution_count": 36,
   "metadata": {},
   "outputs": [
    {
     "name": "stdout",
     "output_type": "stream",
     "text": [
      "76800\n",
      "<class 'numpy.ndarray'>\n",
      "1024\n"
     ]
    }
   ],
   "source": [
    "#Each image construct 3072 images = 768/16 * 1024/16\n",
    "print(len(test))\n",
    "print(type(test))\n",
    "print(len(test[0]))#should be B*B"
   ]
  },
  {
   "cell_type": "markdown",
   "metadata": {},
   "source": [
    "### 1.4 Splitting Data "
   ]
  },
  {
   "cell_type": "code",
   "execution_count": 37,
   "metadata": {},
   "outputs": [],
   "source": [
    "#Split your data to test and train\n",
    "X_train_Or, X_test_Or, y_train_Or, y_test_Or = train_test_split(images,images, test_size=0.30, random_state=42)"
   ]
  },
  {
   "cell_type": "code",
   "execution_count": 38,
   "metadata": {},
   "outputs": [
    {
     "name": "stdout",
     "output_type": "stream",
     "text": [
      "Number of images in Training set:  70\n",
      "Number of images in Test set:  30\n"
     ]
    }
   ],
   "source": [
    "print(\"Number of images in Training set: \",len(X_train_Or))\n",
    "print(\"Number of images in Test set: \",len(X_test_Or))"
   ]
  },
  {
   "cell_type": "code",
   "execution_count": 14,
   "metadata": {},
   "outputs": [],
   "source": [
    "def save_images_to_folder(folder,img_name,images):\n",
    "    path = folder+\"/\"+ img_name\n",
    "    for i,im in enumerate(images):\n",
    "        cv2.imwrite(path+str(i)+'.JPEG',im)  \n",
    "    return "
   ]
  },
  {
   "cell_type": "code",
   "execution_count": 15,
   "metadata": {},
   "outputs": [],
   "source": [
    "#Saving images in to a file\n",
    "save_images_to_folder('train','train_',X_train_Or)\n",
    "save_images_to_folder('test','test_',X_test_Or)"
   ]
  },
  {
   "cell_type": "markdown",
   "metadata": {},
   "source": [
    "### 1.5 Making data ready for training"
   ]
  },
  {
   "cell_type": "code",
   "execution_count": 39,
   "metadata": {},
   "outputs": [],
   "source": [
    "#Train\n",
    "X_train = building_Input(X_train_Or,B)\n",
    "y_train = X_train\n",
    "\n",
    "#Test\n",
    "X_test = building_Input(X_test_Or,B)\n",
    "y_test = X_test"
   ]
  },
  {
   "cell_type": "code",
   "execution_count": 40,
   "metadata": {},
   "outputs": [
    {
     "name": "stdout",
     "output_type": "stream",
     "text": [
      "Number of blocks in Training set:  53760\n",
      "Number of blocks in Test set:  23040\n"
     ]
    }
   ],
   "source": [
    "print(\"Number of blocks in Training set: \",len(X_train))\n",
    "print(\"Number of blocks in Test set: \",len(X_test))"
   ]
  },
  {
   "cell_type": "code",
   "execution_count": 41,
   "metadata": {},
   "outputs": [
    {
     "name": "stdout",
     "output_type": "stream",
     "text": [
      "(53760, 1024)\n",
      "(53760, 1024)\n",
      "(23040, 1024)\n",
      "(23040, 1024)\n"
     ]
    }
   ],
   "source": [
    "#cheking the dimensions\n",
    "#105 images in training\n",
    "print(X_train.shape)\n",
    "print(y_train.shape)\n",
    "#45 images in test\n",
    "print(X_test.shape)\n",
    "print(y_test.shape)"
   ]
  },
  {
   "cell_type": "code",
   "execution_count": 42,
   "metadata": {},
   "outputs": [
    {
     "data": {
      "text/plain": [
       "array([[ 68,  68,  68, ...,  74,  74,  74],\n",
       "       [ 68,  68,  68, ...,  74,  74,  74],\n",
       "       [ 74,  74,  74, ...,  73,  73,  73],\n",
       "       ...,\n",
       "       [175, 175, 174, ...,  68,  68,  68],\n",
       "       [173, 173, 173, ...,  68,  68,  68],\n",
       "       [173, 173, 173, ...,  68,  68,  68]], dtype=uint8)"
      ]
     },
     "execution_count": 42,
     "metadata": {},
     "output_type": "execute_result"
    }
   ],
   "source": [
    "X_train"
   ]
  },
  {
   "cell_type": "markdown",
   "metadata": {},
   "source": [
    "# 2. Building the Model"
   ]
  },
  {
   "cell_type": "markdown",
   "metadata": {},
   "source": [
    "### 2.1 Adding Layers"
   ]
  },
  {
   "cell_type": "code",
   "execution_count": 43,
   "metadata": {},
   "outputs": [],
   "source": [
    "def build_Model(B,R,T):\n",
    "    ##Set random seeds\n",
    "    np.random.seed(23)\n",
    "    tf.set_random_seed(23)\n",
    "    \n",
    "    #Creates a model\n",
    "    model = keras.models.Sequential()\n",
    "    \n",
    "    #Add layers\n",
    "    #First hidden layer\n",
    "    model.add(\n",
    "         keras.layers.Dense(\n",
    "                            units = int(B*B*R),\n",
    "                            input_dim = B*B,\n",
    "                            kernel_initializer = 'glorot_uniform',\n",
    "                            bias_initializer='zeros',\n",
    "                            activation = 'relu'))\n",
    "\n",
    "    #First Reconstruction Layer\n",
    "    model.add(\n",
    "         keras.layers.Dense(\n",
    "                            units = B*B*T,\n",
    "                            input_dim = B*B*R,\n",
    "                            kernel_initializer = 'glorot_uniform',\n",
    "                            bias_initializer='zeros',\n",
    "                            activation = 'relu'))\n",
    "\n",
    "    #Second Reconstruction Layer\n",
    "    model.add(\n",
    "         keras.layers.Dense(\n",
    "                            units = B*B*T,\n",
    "                            input_dim = B*B*T,\n",
    "                            kernel_initializer = 'glorot_uniform',\n",
    "                            bias_initializer='zeros',\n",
    "                            activation = 'relu'))\n",
    "\n",
    "    #Output Layer\n",
    "    #If you don't specify any activation, no activation is applied. \"linear\" activation: a(x) = x).\n",
    "    model.add(\n",
    "         keras.layers.Dense(\n",
    "                            units = B*B,\n",
    "                            input_dim = B*B*T,\n",
    "                            kernel_initializer = 'glorot_uniform',\n",
    "                            bias_initializer='zeros'))\n",
    "    return model"
   ]
  },
  {
   "cell_type": "code",
   "execution_count": 44,
   "metadata": {},
   "outputs": [],
   "source": [
    "model = build_Model(B,R,T)"
   ]
  },
  {
   "cell_type": "code",
   "execution_count": 45,
   "metadata": {},
   "outputs": [],
   "source": [
    "#A custome metric function\n",
    "#https://en.wikipedia.org/wiki/Peak_signal-to-noise_ratio\n",
    "\n",
    "def PSNR(y_true, y_pred):\n",
    "    \n",
    "    max_I = 255.0 \n",
    "    \n",
    "    loge = 10.0 * backend.log((max_I ** 2) / (backend.mean(backend.square(y_pred - y_true)))) \n",
    "    log10 = loge/backend.log(10.0)#backend.log is not base 10\n",
    "    \n",
    "    return log10"
   ]
  },
  {
   "cell_type": "markdown",
   "metadata": {},
   "source": [
    "### 2.2 Optimizer and Cost Function"
   ]
  },
  {
   "cell_type": "code",
   "execution_count": 46,
   "metadata": {},
   "outputs": [],
   "source": [
    "#Choose optimizer and a cost function\n",
    "\n",
    "RMSprop_optimizer = keras.optimizers.RMSprop(lr=0.00001, rho=0.9, epsilon=None, decay=1e-7)\n",
    "\n",
    "model.compile(optimizer = RMSprop_optimizer , loss = 'mean_squared_error', metrics=[PSNR])"
   ]
  },
  {
   "cell_type": "code",
   "execution_count": 47,
   "metadata": {},
   "outputs": [
    {
     "name": "stdout",
     "output_type": "stream",
     "text": [
      "_________________________________________________________________\n",
      "Layer (type)                 Output Shape              Param #   \n",
      "=================================================================\n",
      "dense_5 (Dense)              (None, 256)               262400    \n",
      "_________________________________________________________________\n",
      "dense_6 (Dense)              (None, 8192)              2105344   \n",
      "_________________________________________________________________\n",
      "dense_7 (Dense)              (None, 8192)              67117056  \n",
      "_________________________________________________________________\n",
      "dense_8 (Dense)              (None, 1024)              8389632   \n",
      "=================================================================\n",
      "Total params: 77,874,432\n",
      "Trainable params: 77,874,432\n",
      "Non-trainable params: 0\n",
      "_________________________________________________________________\n",
      "None\n"
     ]
    }
   ],
   "source": [
    "print(model.summary())"
   ]
  },
  {
   "cell_type": "markdown",
   "metadata": {},
   "source": [
    "### 2.3 Callbacks"
   ]
  },
  {
   "cell_type": "code",
   "execution_count": 48,
   "metadata": {},
   "outputs": [],
   "source": [
    "class LossHistory(keras.callbacks.Callback):\n",
    "    def on_train_begin(self, logs={}):\n",
    "        self.losses = []\n",
    "        self.PSNR = []\n",
    "\n",
    "    def on_batch_end(self, batch, logs={}):\n",
    "        self.losses.append(logs.get('loss'))\n",
    "        self.PSNR.append(logs.get('PSNR'))"
   ]
  },
  {
   "cell_type": "code",
   "execution_count": 49,
   "metadata": {},
   "outputs": [],
   "source": [
    "loss_history = LossHistory()"
   ]
  },
  {
   "cell_type": "markdown",
   "metadata": {},
   "source": [
    "### 2.3 Training the model"
   ]
  },
  {
   "cell_type": "code",
   "execution_count": 50,
   "metadata": {},
   "outputs": [
    {
     "name": "stdout",
     "output_type": "stream",
     "text": [
      "Train on 53760 samples, validate on 23040 samples\n",
      "Epoch 1/50\n",
      "53760/53760 [==============================] - 78s 1ms/step - loss: 301.1776 - PSNR: 26.9380 - val_loss: 75.9485 - val_PSNR: 29.7998\n",
      "Epoch 2/50\n",
      "53760/53760 [==============================] - 76s 1ms/step - loss: 68.2740 - PSNR: 30.0227 - val_loss: 65.1376 - val_PSNR: 30.3346\n",
      "Epoch 3/50\n",
      "53760/53760 [==============================] - 76s 1ms/step - loss: 54.6670 - PSNR: 31.0032 - val_loss: 48.8200 - val_PSNR: 31.7661\n",
      "Epoch 4/50\n",
      "53760/53760 [==============================] - 76s 1ms/step - loss: 47.1909 - PSNR: 31.6208 - val_loss: 47.2092 - val_PSNR: 31.8079\n",
      "Epoch 5/50\n",
      "53760/53760 [==============================] - 76s 1ms/step - loss: 42.3419 - PSNR: 32.0930 - val_loss: 34.7060 - val_PSNR: 33.5790\n",
      "Epoch 6/50\n",
      "53760/53760 [==============================] - 76s 1ms/step - loss: 38.7342 - PSNR: 32.4818 - val_loss: 36.7408 - val_PSNR: 33.0103\n",
      "Epoch 7/50\n",
      "53760/53760 [==============================] - 76s 1ms/step - loss: 36.1530 - PSNR: 32.7775 - val_loss: 29.9422 - val_PSNR: 34.2978\n",
      "Epoch 8/50\n",
      "53760/53760 [==============================] - 76s 1ms/step - loss: 33.9150 - PSNR: 33.0513 - val_loss: 32.3746 - val_PSNR: 33.5993\n",
      "Epoch 9/50\n",
      "53760/53760 [==============================] - 76s 1ms/step - loss: 32.2758 - PSNR: 33.2696 - val_loss: 28.1786 - val_PSNR: 34.4259\n",
      "Epoch 10/50\n",
      "53760/53760 [==============================] - 76s 1ms/step - loss: 30.7376 - PSNR: 33.4924 - val_loss: 34.2403 - val_PSNR: 33.1756\n",
      "Epoch 11/50\n",
      "53760/53760 [==============================] - 76s 1ms/step - loss: 29.4699 - PSNR: 33.6908 - val_loss: 31.7795 - val_PSNR: 33.5600\n",
      "Epoch 12/50\n",
      "53760/53760 [==============================] - 76s 1ms/step - loss: 28.3963 - PSNR: 33.8291 - val_loss: 29.8963 - val_PSNR: 33.8581\n",
      "Epoch 13/50\n",
      "53760/53760 [==============================] - 76s 1ms/step - loss: 27.3722 - PSNR: 33.9885 - val_loss: 29.1394 - val_PSNR: 33.9884\n",
      "Epoch 14/50\n",
      "53760/53760 [==============================] - 76s 1ms/step - loss: 26.5766 - PSNR: 34.1338 - val_loss: 23.9579 - val_PSNR: 35.2011\n",
      "Epoch 15/50\n",
      "53760/53760 [==============================] - 76s 1ms/step - loss: 25.6894 - PSNR: 34.3025 - val_loss: 30.4292 - val_PSNR: 33.6800\n",
      "Epoch 16/50\n",
      "53760/53760 [==============================] - 76s 1ms/step - loss: 25.0213 - PSNR: 34.3820 - val_loss: 30.0656 - val_PSNR: 33.7560\n",
      "Epoch 17/50\n",
      "53760/53760 [==============================] - 76s 1ms/step - loss: 24.3243 - PSNR: 34.5132 - val_loss: 24.2077 - val_PSNR: 34.9655\n",
      "Epoch 18/50\n",
      "53760/53760 [==============================] - 76s 1ms/step - loss: 23.7822 - PSNR: 34.6039 - val_loss: 23.0246 - val_PSNR: 35.2646\n",
      "Epoch 19/50\n",
      "53760/53760 [==============================] - 76s 1ms/step - loss: 23.1760 - PSNR: 34.7233 - val_loss: 24.3865 - val_PSNR: 34.8528\n",
      "Epoch 20/50\n",
      "53760/53760 [==============================] - 76s 1ms/step - loss: 22.6564 - PSNR: 34.7914 - val_loss: 25.3394 - val_PSNR: 34.5971\n",
      "Epoch 21/50\n",
      "53760/53760 [==============================] - 76s 1ms/step - loss: 22.1885 - PSNR: 34.9001 - val_loss: 24.7120 - val_PSNR: 34.7077\n",
      "Epoch 22/50\n",
      "53760/53760 [==============================] - 76s 1ms/step - loss: 21.6920 - PSNR: 34.9949 - val_loss: 23.3318 - val_PSNR: 35.0601\n",
      "Epoch 23/50\n",
      "53760/53760 [==============================] - 76s 1ms/step - loss: 21.3009 - PSNR: 35.0729 - val_loss: 23.0548 - val_PSNR: 35.0849\n",
      "Epoch 24/50\n",
      "53760/53760 [==============================] - 76s 1ms/step - loss: 20.8698 - PSNR: 35.1993 - val_loss: 22.2062 - val_PSNR: 35.3293\n",
      "Epoch 25/50\n",
      "53760/53760 [==============================] - 76s 1ms/step - loss: 20.4588 - PSNR: 35.2328 - val_loss: 23.1853 - val_PSNR: 35.0267\n",
      "Epoch 26/50\n",
      "53760/53760 [==============================] - 76s 1ms/step - loss: 20.1656 - PSNR: 35.3141 - val_loss: 23.7025 - val_PSNR: 34.9008\n",
      "Epoch 27/50\n",
      "53760/53760 [==============================] - 76s 1ms/step - loss: 19.7775 - PSNR: 35.3998 - val_loss: 23.8731 - val_PSNR: 34.8421\n",
      "Epoch 28/50\n",
      "53760/53760 [==============================] - 76s 1ms/step - loss: 19.4185 - PSNR: 35.4790 - val_loss: 20.0113 - val_PSNR: 35.9528\n",
      "Epoch 29/50\n",
      "53760/53760 [==============================] - 76s 1ms/step - loss: 19.1358 - PSNR: 35.5645 - val_loss: 20.3218 - val_PSNR: 35.7574\n",
      "Epoch 30/50\n",
      "53760/53760 [==============================] - 76s 1ms/step - loss: 18.8113 - PSNR: 35.6021 - val_loss: 20.4787 - val_PSNR: 35.6934\n",
      "Epoch 31/50\n",
      "53760/53760 [==============================] - 76s 1ms/step - loss: 18.5351 - PSNR: 35.7117 - val_loss: 18.9009 - val_PSNR: 36.2851\n",
      "Epoch 32/50\n",
      "53760/53760 [==============================] - 76s 1ms/step - loss: 18.2604 - PSNR: 35.7468 - val_loss: 20.1692 - val_PSNR: 35.7689\n",
      "Epoch 33/50\n",
      "53760/53760 [==============================] - 76s 1ms/step - loss: 17.9735 - PSNR: 35.8160 - val_loss: 20.0351 - val_PSNR: 35.8301\n",
      "Epoch 34/50\n",
      "53760/53760 [==============================] - 76s 1ms/step - loss: 17.7260 - PSNR: 35.8616 - val_loss: 18.8657 - val_PSNR: 36.1995\n",
      "Epoch 35/50\n",
      "53760/53760 [==============================] - 76s 1ms/step - loss: 17.4707 - PSNR: 35.9293 - val_loss: 19.6720 - val_PSNR: 35.9071\n",
      "Epoch 36/50\n",
      "53760/53760 [==============================] - 76s 1ms/step - loss: 17.2522 - PSNR: 35.9849 - val_loss: 18.1470 - val_PSNR: 36.4719\n",
      "Epoch 37/50\n",
      "53760/53760 [==============================] - 76s 1ms/step - loss: 17.0372 - PSNR: 36.0413 - val_loss: 22.2175 - val_PSNR: 35.1527\n",
      "Epoch 38/50\n",
      "53760/53760 [==============================] - 76s 1ms/step - loss: 16.7853 - PSNR: 36.1329 - val_loss: 21.2455 - val_PSNR: 35.3820\n",
      "Epoch 39/50\n",
      "53760/53760 [==============================] - 76s 1ms/step - loss: 16.5765 - PSNR: 36.1702 - val_loss: 21.8515 - val_PSNR: 35.2127\n",
      "Epoch 40/50\n",
      "53760/53760 [==============================] - 76s 1ms/step - loss: 16.3511 - PSNR: 36.2270 - val_loss: 18.7151 - val_PSNR: 36.1825\n",
      "Epoch 41/50\n",
      "53760/53760 [==============================] - 76s 1ms/step - loss: 16.1687 - PSNR: 36.2798 - val_loss: 17.7850 - val_PSNR: 36.5218\n",
      "Epoch 42/50\n",
      "53760/53760 [==============================] - 76s 1ms/step - loss: 15.9727 - PSNR: 36.3336 - val_loss: 16.4172 - val_PSNR: 37.2000\n",
      "Epoch 43/50\n",
      "53760/53760 [==============================] - 76s 1ms/step - loss: 15.7950 - PSNR: 36.3594 - val_loss: 16.6077 - val_PSNR: 37.0768\n",
      "Epoch 44/50\n",
      "53760/53760 [==============================] - 76s 1ms/step - loss: 15.5832 - PSNR: 36.3983 - val_loss: 18.8025 - val_PSNR: 36.0794\n",
      "Epoch 45/50\n",
      "53760/53760 [==============================] - 76s 1ms/step - loss: 15.3956 - PSNR: 36.4778 - val_loss: 20.8358 - val_PSNR: 35.4367\n",
      "Epoch 46/50\n",
      "53760/53760 [==============================] - 76s 1ms/step - loss: 15.2194 - PSNR: 36.5156 - val_loss: 18.0115 - val_PSNR: 36.3199\n",
      "Epoch 47/50\n",
      "53760/53760 [==============================] - 76s 1ms/step - loss: 15.0383 - PSNR: 36.5774 - val_loss: 17.1179 - val_PSNR: 36.6973\n",
      "Epoch 48/50\n",
      "53760/53760 [==============================] - 76s 1ms/step - loss: 14.8714 - PSNR: 36.6148 - val_loss: 23.3079 - val_PSNR: 34.8410\n",
      "Epoch 49/50\n",
      "53760/53760 [==============================] - 76s 1ms/step - loss: 14.7005 - PSNR: 36.6699 - val_loss: 17.0407 - val_PSNR: 36.7080\n",
      "Epoch 50/50\n",
      "53760/53760 [==============================] - 76s 1ms/step - loss: 14.5558 - PSNR: 36.7039 - val_loss: 18.5441 - val_PSNR: 36.1017\n"
     ]
    }
   ],
   "source": [
    "#Training\n",
    "history = model.fit(X_train, y_train,\n",
    "                    batch_size=64, epochs =50,\n",
    "                    verbose = 1,#can follow the optimization during training\n",
    "                    validation_data=(X_test, y_test),\n",
    "                    callbacks=[loss_history])# check if the model overfitting by having validation set"
   ]
  },
  {
   "cell_type": "markdown",
   "metadata": {},
   "source": [
    "#### 2.3.1 Saving the Model and the History"
   ]
  },
  {
   "cell_type": "code",
   "execution_count": 51,
   "metadata": {},
   "outputs": [
    {
     "name": "stdout",
     "output_type": "stream",
     "text": [
      "Saved model to disk\n"
     ]
    }
   ],
   "source": [
    "#Saving the model \n",
    "\n",
    "model_json = model.to_json()\n",
    "with open(\"model3_B32_1.json\", \"w\") as json_file:\n",
    "    json_file.write(model_json)\n",
    "    \n",
    "model.save_weights(\"model3_B32_1.h5\")\n",
    "print(\"Saved model to disk\")"
   ]
  },
  {
   "cell_type": "code",
   "execution_count": 52,
   "metadata": {},
   "outputs": [],
   "source": [
    "#save the history of training\n",
    "import pickle\n",
    "pickle_out = open(\"history3_B32_1.pickle\",\"wb\")\n",
    "pickle.dump(history.history, pickle_out)\n",
    "pickle_out.close()"
   ]
  },
  {
   "cell_type": "markdown",
   "metadata": {},
   "source": [
    "#### 2.3.2 Uploading the Model and the History "
   ]
  },
  {
   "cell_type": "code",
   "execution_count": null,
   "metadata": {},
   "outputs": [],
   "source": [
    "#load json and create model\n",
    "\n",
    "json_file = open('model3_B8.json', 'r')\n",
    "loaded_model_json = json_file.read()\n",
    "json_file.close()\n",
    "\n",
    "model = model_from_json(loaded_model_json)\n",
    "model.load_weights(\"model3_B8.h5\")"
   ]
  },
  {
   "cell_type": "code",
   "execution_count": null,
   "metadata": {},
   "outputs": [],
   "source": [
    "#if you load your model and weights you need to compile it again\n",
    "model.compile(optimizer = adam_optimizer , loss = 'mean_squared_error', metrics=[PSNR])"
   ]
  },
  {
   "cell_type": "markdown",
   "metadata": {},
   "source": [
    "# 3.Predicting"
   ]
  },
  {
   "cell_type": "code",
   "execution_count": 53,
   "metadata": {},
   "outputs": [
    {
     "name": "stdout",
     "output_type": "stream",
     "text": [
      "53760/53760 [==============================] - 12s 215us/step\n",
      "23040/23040 [==============================] - 5s 211us/step\n"
     ]
    }
   ],
   "source": [
    "y_train_pred = model.predict(X_train,verbose = 1)\n",
    "y_test_pred = model.predict(X_test,verbose = 1)"
   ]
  },
  {
   "cell_type": "code",
   "execution_count": 54,
   "metadata": {},
   "outputs": [
    {
     "data": {
      "text/plain": [
       "array([[ 64.85961 ,  72.30442 ,  72.75537 , ...,  76.869125,  70.92377 ,\n",
       "         67.961075],\n",
       "       [ 71.15897 ,  70.49197 ,  70.668304, ...,  75.9432  ,  75.27314 ,\n",
       "         74.02198 ],\n",
       "       [ 75.03944 ,  74.74569 ,  74.96935 , ...,  74.83086 ,  74.070114,\n",
       "         72.73755 ],\n",
       "       ...,\n",
       "       [178.62198 , 177.33008 , 177.90002 , ...,  71.1454  ,  68.90284 ,\n",
       "         67.7115  ],\n",
       "       [175.49017 , 174.63185 , 176.28351 , ...,  71.30649 ,  70.642044,\n",
       "         68.00785 ],\n",
       "       [175.16893 , 173.68562 , 174.31958 , ...,  73.19019 ,  71.60027 ,\n",
       "         62.742516]], dtype=float32)"
      ]
     },
     "execution_count": 54,
     "metadata": {},
     "output_type": "execute_result"
    }
   ],
   "source": [
    "y_train_pred"
   ]
  },
  {
   "cell_type": "code",
   "execution_count": 55,
   "metadata": {},
   "outputs": [
    {
     "data": {
      "text/plain": [
       "array([[ 68.944664,  75.02212 ,  66.18363 , ...,  79.80441 ,  73.98494 ,\n",
       "         70.11463 ],\n",
       "       [ 71.18616 ,  71.135506,  70.5142  , ...,  75.13823 ,  75.03035 ,\n",
       "         73.99197 ],\n",
       "       [ 74.81188 ,  74.376686,  74.60875 , ...,  74.80549 ,  74.06646 ,\n",
       "         72.47552 ],\n",
       "       ...,\n",
       "       [177.98009 , 176.03246 , 175.89331 , ...,  67.955185,  66.45581 ,\n",
       "         63.598774],\n",
       "       [169.95155 , 168.43024 , 169.43654 , ...,  68.479095,  67.90043 ,\n",
       "         64.45664 ],\n",
       "       [173.9159  , 173.52602 , 174.06006 , ...,  71.01514 ,  69.91429 ,\n",
       "         61.167088]], dtype=float32)"
      ]
     },
     "execution_count": 55,
     "metadata": {},
     "output_type": "execute_result"
    }
   ],
   "source": [
    "y_test_pred"
   ]
  },
  {
   "cell_type": "markdown",
   "metadata": {},
   "source": [
    "# 4. Evaluation"
   ]
  },
  {
   "cell_type": "code",
   "execution_count": 56,
   "metadata": {},
   "outputs": [
    {
     "name": "stdout",
     "output_type": "stream",
     "text": [
      "53760/53760 [==============================] - 4s 75us/step\n",
      "Training PSNR:\n",
      "PSNR: 36.53%\n"
     ]
    }
   ],
   "source": [
    "#Evaluate on the whole image\n",
    "imgL = int(img_shape[0]*img_shape[1]/(B*B))\n",
    "\n",
    "scores_Train = model.evaluate(X_train, y_train, verbose=1,batch_size=imgL)\n",
    "\n",
    "print(\"Training PSNR:\")\n",
    "print(\"%s: %.2f%%\" % (model.metrics_names[1], scores_Train[1]))"
   ]
  },
  {
   "cell_type": "code",
   "execution_count": 57,
   "metadata": {},
   "outputs": [
    {
     "name": "stdout",
     "output_type": "stream",
     "text": [
      "23040/23040 [==============================] - 2s 70us/step\n",
      "Test PSNR:\n",
      "PSNR: 35.47%\n"
     ]
    }
   ],
   "source": [
    "scores_Test = model.evaluate(X_test, y_test, verbose=1,batch_size=imgL)\n",
    "\n",
    "print(\"Test PSNR:\")\n",
    "print(\"%s: %.2f%%\" % (model.metrics_names[1], scores_Test[1]))"
   ]
  },
  {
   "cell_type": "markdown",
   "metadata": {},
   "source": [
    "### 4.1 Plots"
   ]
  },
  {
   "cell_type": "code",
   "execution_count": 58,
   "metadata": {},
   "outputs": [
    {
     "data": {
      "image/png": "[encoded data removed]",
      "text/plain": [
       "<Figure size 432x288 with 1 Axes>"
      ]
     },
     "metadata": {},
     "output_type": "display_data"
    }
   ],
   "source": [
    "#plotting Loss\n",
    "plt.plot(history.history['loss'])\n",
    "plt.plot(history.history['val_loss'])\n",
    "plt.title('Model Loss')\n",
    "plt.ylabel('Loss')\n",
    "plt.xlabel('Epoch')\n",
    "plt.legend(['Train', 'Test'], loc='upper left')\n",
    "plt.show()"
   ]
  },
  {
   "cell_type": "code",
   "execution_count": 59,
   "metadata": {},
   "outputs": [
    {
     "data": {
      "image/png": "[encoded data removed]",
      "text/plain": [
       "<Figure size 432x288 with 1 Axes>"
      ]
     },
     "metadata": {},
     "output_type": "display_data"
    }
   ],
   "source": [
    "#plotting PSNR\n",
    "plt.plot(history.history['PSNR'])\n",
    "plt.plot(history.history['val_PSNR'])\n",
    "plt.title('Model PSNR')\n",
    "plt.ylabel('PSNR')\n",
    "plt.xlabel('Epoch')\n",
    "plt.legend(['Train', 'Test'], loc='upper left')\n",
    "plt.show()"
   ]
  },
  {
   "cell_type": "markdown",
   "metadata": {},
   "source": [
    "# 5. Reconstrcut the predicted images"
   ]
  },
  {
   "cell_type": "markdown",
   "metadata": {},
   "source": [
    "### 5.1 Function: reconstrcution"
   ]
  },
  {
   "cell_type": "code",
   "execution_count": 60,
   "metadata": {},
   "outputs": [],
   "source": [
    "#number of rows for each image = (len(image)xlen(image[0])/B^2\n",
    "#gets an array and reconstruct the images\n",
    "def building_output(result,img_shape):\n",
    "    \n",
    "    imgL = int(img_shape[0]*img_shape[1]/(B*B))\n",
    "    out_put = []\n",
    "    \n",
    "    for i in range(0,len(result),imgL):\n",
    "        out_put.append(decompression(result[i:i+imgL],B,img_shape))\n",
    "    \n",
    "    return out_put"
   ]
  },
  {
   "cell_type": "markdown",
   "metadata": {},
   "source": [
    "### 5.2 Reconstrcuting train and test"
   ]
  },
  {
   "cell_type": "code",
   "execution_count": 61,
   "metadata": {},
   "outputs": [],
   "source": [
    "#reconstructing train predictions\n",
    "dec_img_train = building_output(y_train_pred,img_shape)\n",
    "\n",
    "#reconstructing test predictions\n",
    "dec_img_test = building_output(y_test_pred,img_shape)"
   ]
  },
  {
   "cell_type": "code",
   "execution_count": 62,
   "metadata": {},
   "outputs": [
    {
     "name": "stdout",
     "output_type": "stream",
     "text": [
      "70\n",
      "30\n"
     ]
    }
   ],
   "source": [
    "#test\n",
    "print(len(dec_img_train))\n",
    "print(len(dec_img_test))"
   ]
  },
  {
   "cell_type": "markdown",
   "metadata": {},
   "source": [
    "### 5.3 Plotting images"
   ]
  },
  {
   "cell_type": "code",
   "execution_count": 64,
   "metadata": {},
   "outputs": [
    {
     "data": {
      "image/png": "[encoded data removed]",
      "text/plain": [
       "<Figure size 432x288 with 1 Axes>"
      ]
     },
     "metadata": {},
     "output_type": "display_data"
    },
    {
     "data": {
      "image/png": "[encoded data removed]",
      "text/plain": [
       "<Figure size 432x288 with 1 Axes>"
      ]
     },
     "metadata": {},
     "output_type": "display_data"
    },
    {
     "name": "stdout",
     "output_type": "stream",
     "text": [
      "36.437536981194356\n"
     ]
    }
   ],
   "source": [
    "#train\n",
    "img_in=X_train_Or[50]\n",
    "img_out = dec_img_train[50]\n",
    "imgplot = plt.imshow(img_in,cmap='gray')\n",
    "plt.show()\n",
    "imgplot = plt.imshow(img_out,cmap='gray')\n",
    "plt.show()\n",
    "print(PSNR_Final(img_in,img_out))#PSNR_Final is in section 5.4"
   ]
  },
  {
   "cell_type": "code",
   "execution_count": 65,
   "metadata": {},
   "outputs": [
    {
     "data": {
      "image/png": "[encoded data removed]",
      "text/plain": [
       "<Figure size 432x288 with 1 Axes>"
      ]
     },
     "metadata": {},
     "output_type": "display_data"
    },
    {
     "data": {
      "image/png": "[encoded data removed]",
      "text/plain": [
       "<Figure size 432x288 with 1 Axes>"
      ]
     },
     "metadata": {},
     "output_type": "display_data"
    },
    {
     "name": "stdout",
     "output_type": "stream",
     "text": [
      "35.92039725142832\n"
     ]
    }
   ],
   "source": [
    "#test\n",
    "img_in_t=X_test_Or[15]\n",
    "img_out_t = dec_img_test[15]\n",
    "imgplot = plt.imshow(img_in_t,cmap='gray')\n",
    "plt.show()\n",
    "imgplot = plt.imshow(img_out_t,cmap='gray')\n",
    "plt.show()\n",
    "print(PSNR_Final(img_in_t,img_out_t))"
   ]
  },
  {
   "cell_type": "markdown",
   "metadata": {},
   "source": [
    "### 5.3 Saving images"
   ]
  },
  {
   "cell_type": "code",
   "execution_count": 66,
   "metadata": {},
   "outputs": [],
   "source": [
    "def save_images_to_folder(folder,img_name,images):\n",
    "    path = folder+\"/\"+ img_name\n",
    "    for i,im in enumerate(images):\n",
    "        cv2.imwrite(path+str(i)+'.png',im)  \n",
    "    return "
   ]
  },
  {
   "cell_type": "code",
   "execution_count": 67,
   "metadata": {},
   "outputs": [],
   "source": [
    "#saving the precited images\n",
    "save_images_to_folder('train_pred','train_p_B32_1_',dec_img_train)\n",
    "save_images_to_folder('test_pred','test_p_B32_1_',dec_img_test)"
   ]
  },
  {
   "cell_type": "markdown",
   "metadata": {},
   "source": [
    "### 5.4 Find the average PSNR "
   ]
  },
  {
   "cell_type": "code",
   "execution_count": 63,
   "metadata": {},
   "outputs": [],
   "source": [
    "#Calculate PSNR on the whole image\n",
    "def PSNR_Final(y_true, y_pred):\n",
    "    max_I = 255.0 #in this dataset #double check with get the max(img)\n",
    "    tmp =  np.mean(np.square(y_pred - y_true))\n",
    "    log_res = 10 * np.log10((max_I ** 2) /tmp)\n",
    "    \n",
    "    return log_res"
   ]
  },
  {
   "cell_type": "code",
   "execution_count": 68,
   "metadata": {},
   "outputs": [],
   "source": [
    "#calcualte the average PSNR on a data set\n",
    "def cal_PSNR_Dataset(output_images,input_images):\n",
    "    res_psnr = []\n",
    "    for i,o in enumerate(output_images):\n",
    "        res_psnr.append(PSNR_Final(input_images[i],o))\n",
    "    return res_psnr"
   ]
  },
  {
   "cell_type": "code",
   "execution_count": 69,
   "metadata": {},
   "outputs": [
    {
     "name": "stdout",
     "output_type": "stream",
     "text": [
      "average PSNR on training:  36.52640002137149\n"
     ]
    }
   ],
   "source": [
    "res_psnr_train = cal_PSNR_Dataset(dec_img_train,X_train_Or)\n",
    "print(\"average PSNR on training: \",np.mean(res_psnr_train))"
   ]
  },
  {
   "cell_type": "code",
   "execution_count": 70,
   "metadata": {},
   "outputs": [
    {
     "data": {
      "text/plain": [
       "[36.19572163132842,\n",
       " 36.62465862930115,\n",
       " 36.64987761614262,\n",
       " 36.58186554140859,\n",
       " 36.2833251801985,\n",
       " 37.1309443036983,\n",
       " 35.87284398273247,\n",
       " 36.347851778005776,\n",
       " 36.49395604944371,\n",
       " 36.34606669960924,\n",
       " 36.30140852890728,\n",
       " 36.835671187308414,\n",
       " 36.21872566732888,\n",
       " 36.876345180046634,\n",
       " 36.48981307373251,\n",
       " 36.63844566779863,\n",
       " 35.81142638558906,\n",
       " 36.397240981229025,\n",
       " 36.216343326559695,\n",
       " 35.788370925069316,\n",
       " 36.692739078391604,\n",
       " 36.66009314518745,\n",
       " 36.67790778141381,\n",
       " 36.22206921255874,\n",
       " 36.50134884086083,\n",
       " 35.84332953742302,\n",
       " 36.34378146478443,\n",
       " 36.30611665318655,\n",
       " 36.644001798231656,\n",
       " 36.84109354101109,\n",
       " 35.92736441842492,\n",
       " 37.06459505241513,\n",
       " 36.93683630131224,\n",
       " 37.020656348236926,\n",
       " 36.82887854583982,\n",
       " 36.67962083983931,\n",
       " 36.56355992178006,\n",
       " 35.99907961890837,\n",
       " 36.59163365198633,\n",
       " 36.88227232475387,\n",
       " 36.55180166503232,\n",
       " 36.774716933150195,\n",
       " 36.405040631759505,\n",
       " 36.86031034208116,\n",
       " 36.718182953373805,\n",
       " 36.12307951843054,\n",
       " 36.45554304094596,\n",
       " 36.47175578899136,\n",
       " 36.788694862482046,\n",
       " 36.467448239670105,\n",
       " 36.437536981194356,\n",
       " 36.86611121653456,\n",
       " 36.90549889978528,\n",
       " 36.71673907374743,\n",
       " 36.76618963665949,\n",
       " 36.883559636468476,\n",
       " 36.436380012471645,\n",
       " 36.43996176897112,\n",
       " 36.453956819682126,\n",
       " 36.81573045909183,\n",
       " 36.87979907360046,\n",
       " 35.96383924536781,\n",
       " 36.87251193391842,\n",
       " 36.81985030519521,\n",
       " 36.115954175449254,\n",
       " 36.289596394931536,\n",
       " 36.56212648852075,\n",
       " 36.371602379245864,\n",
       " 36.472782657406604,\n",
       " 36.83381994986065]"
      ]
     },
     "execution_count": 70,
     "metadata": {},
     "output_type": "execute_result"
    }
   ],
   "source": [
    "res_psnr_train"
   ]
  },
  {
   "cell_type": "code",
   "execution_count": 71,
   "metadata": {},
   "outputs": [
    {
     "name": "stdout",
     "output_type": "stream",
     "text": [
      "average PSNR on the test set:  35.47302197187836\n"
     ]
    }
   ],
   "source": [
    "res_psnr_test = cal_PSNR_Dataset(dec_img_test,X_test_Or)\n",
    "print(\"average PSNR on the test set: \",np.mean(res_psnr_test))"
   ]
  },
  {
   "cell_type": "code",
   "execution_count": 72,
   "metadata": {
    "scrolled": false
   },
   "outputs": [
    {
     "data": {
      "text/plain": [
       "[35.533302024993695,\n",
       " 35.58271762880264,\n",
       " 36.28495773221275,\n",
       " 35.90739603793116,\n",
       " 36.09431727274546,\n",
       " 35.66590493860523,\n",
       " 35.74888043678639,\n",
       " 35.81708496097286,\n",
       " 35.28891616144303,\n",
       " 35.962011467809845,\n",
       " 35.956998287537125,\n",
       " 35.11233544862795,\n",
       " 34.80036680693023,\n",
       " 35.570471091022654,\n",
       " 35.94704245274448,\n",
       " 35.92039725142832,\n",
       " 34.89625145547083,\n",
       " 34.79954890874243,\n",
       " 34.95667341218814,\n",
       " 35.51007436473419,\n",
       " 35.01097929431465,\n",
       " 35.289274452320484,\n",
       " 35.677836417575215,\n",
       " 34.63237374492596,\n",
       " 35.60661710209169,\n",
       " 35.89785006211586,\n",
       " 35.43762106083263,\n",
       " 34.52247687955847,\n",
       " 35.19387111846368,\n",
       " 35.56611088242289]"
      ]
     },
     "execution_count": 72,
     "metadata": {},
     "output_type": "execute_result"
    }
   ],
   "source": [
    "res_psnr_test"
   ]
  },
  {
   "cell_type": "code",
   "execution_count": null,
   "metadata": {},
   "outputs": [],
   "source": []
  }
 ],
 "metadata": {
  "kernelspec": {
   "display_name": "Python 3",
   "language": "python",
   "name": "python3"
  },
  "language_info": {
   "codemirror_mode": {
    "name": "ipython",
    "version": 3
   },
   "file_extension": ".py",
   "mimetype": "text/x-python",
   "name": "python",
   "nbconvert_exporter": "python",
   "pygments_lexer": "ipython3",
   "version": "3.6.7"
  }
 },
 "nbformat": 4,
 "nbformat_minor": 2
}
