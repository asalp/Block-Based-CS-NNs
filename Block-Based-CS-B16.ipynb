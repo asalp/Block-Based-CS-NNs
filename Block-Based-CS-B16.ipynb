{
 "cells": [
  {
   "cell_type": "code",
   "execution_count": 1,
   "metadata": {},
   "outputs": [
    {
     "name": "stderr",
     "output_type": "stream",
     "text": [
      "Using TensorFlow backend.\n"
     ]
    },
    {
     "name": "stdout",
     "output_type": "stream",
     "text": [
      "Populating the interactive namespace from numpy and matplotlib\n"
     ]
    }
   ],
   "source": [
    "#Importing libraries\n",
    "import tensorflow as tf\n",
    "import keras \n",
    "from keras.models import model_from_json\n",
    "from keras import backend\n",
    "import numpy as np\n",
    "\n",
    "import cv2\n",
    "\n",
    "%pylab inline\n",
    "import matplotlib.pyplot as plt\n",
    "import matplotlib.image as matp\n",
    "\n",
    "import scipy.ndimage\n",
    "from scipy import misc\n",
    "\n",
    "import os\n",
    "import random\n",
    "\n",
    "import math\n",
    "from sklearn.model_selection import train_test_split"
   ]
  },
  {
   "cell_type": "markdown",
   "metadata": {},
   "source": [
    "#### Hyper parameters used in the original paper:"
   ]
  },
  {
   "cell_type": "code",
   "execution_count": 2,
   "metadata": {},
   "outputs": [],
   "source": [
    "#Block size\n",
    "B = 16\n",
    "\n",
    "#Sensing rate R = M/N\n",
    "#Sensing matrix is MxN\n",
    "R = 0.25\n",
    "\n",
    "#Number of reconstruction layers\n",
    "#K =2 two hidden layers for reconstruction\n",
    "\n",
    "#Redundancy factor\n",
    "T = 8"
   ]
  },
  {
   "cell_type": "markdown",
   "metadata": {},
   "source": [
    "# 1. Data"
   ]
  },
  {
   "cell_type": "markdown",
   "metadata": {},
   "source": [
    "### 1.1 Reading the images from the file"
   ]
  },
  {
   "cell_type": "code",
   "execution_count": 67,
   "metadata": {},
   "outputs": [],
   "source": [
    "#unzipping the file\n",
    "import zipfile\n",
    "zip_ref = zipfile.ZipFile('Data.zip', 'r') \n",
    "zip_ref.extractall('input_data') \n",
    "zip_ref.close()"
   ]
  },
  {
   "cell_type": "code",
   "execution_count": 3,
   "metadata": {},
   "outputs": [],
   "source": [
    "#Reads all the images from the file and save them in a list as Type=unit8\n",
    "#3-channels of the images share the same info. So one channel is only used\n",
    "def load_images_from_folder(folder):\n",
    "    images = []\n",
    "    for filename in os.listdir(folder):\n",
    "        \n",
    "        imagePath = os.path.join(folder,filename)\n",
    "        \n",
    "        if imagePath == folder + '.DS_Store':\n",
    "            continue\n",
    "        else:\n",
    "            img = cv2.imread(imagePath,cv2.IMREAD_UNCHANGED)\n",
    "            if img is not None:\n",
    "                images.append(img[:,:,0])\n",
    "                \n",
    "    return images"
   ]
  },
  {
   "cell_type": "code",
   "execution_count": 4,
   "metadata": {},
   "outputs": [],
   "source": [
    "images = load_images_from_folder('input_data/Data')"
   ]
  },
  {
   "cell_type": "code",
   "execution_count": 5,
   "metadata": {},
   "outputs": [
    {
     "name": "stdout",
     "output_type": "stream",
     "text": [
      "<class 'list'>\n",
      "100\n",
      "(768, 1024)\n",
      "uint8\n"
     ]
    },
    {
     "data": {
      "text/plain": [
       "254"
      ]
     },
     "execution_count": 5,
     "metadata": {},
     "output_type": "execute_result"
    }
   ],
   "source": [
    "#test\n",
    "print(type(images))\n",
    "print(len(images))\n",
    "print(images[0].shape)\n",
    "print(images[0].dtype)\n",
    "np.max(images[0])"
   ]
  },
  {
   "cell_type": "code",
   "execution_count": 6,
   "metadata": {},
   "outputs": [],
   "source": [
    "#image shape\n",
    "img_shape = images[0].shape"
   ]
  },
  {
   "cell_type": "markdown",
   "metadata": {},
   "source": [
    "### 1.2 Compression and Decompression"
   ]
  },
  {
   "cell_type": "code",
   "execution_count": 7,
   "metadata": {},
   "outputs": [],
   "source": [
    "#This function gets all the images and split them into blocks of BxB and save each block into a row of an array\n",
    "def compression(image,B):#B is 16\n",
    "    R = len(image)\n",
    "    C = len(image[0])\n",
    "    res = []\n",
    "    \n",
    "    for r in range(0,R,B):\n",
    "        for c in range(0,C,B):\n",
    "            #segment BxB blocks and faltten them into a vector with len=B^2\n",
    "            tmp = image[r:B+r,c:c+B].flatten()\n",
    "            res.append(tmp)\n",
    "            \n",
    "    return np.asarray(res)    \n",
    "\n",
    "#This function gets an array with shape = (len(image)xlen(image[0])/B^2,B^2)\n",
    "#Returns and image with shape len(image)xlen(image[0]) \n",
    "def decompression(arr,B,img_shape):\n",
    "    numBlocks_R = int(img_shape[0]/B)\n",
    "    numBlocks_C = int(img_shape[1]/B)\n",
    "    \n",
    "    #makes an empty array\n",
    "    newImage=np.empty((img_shape[0],img_shape[1]))\n",
    "    \n",
    "    for r in range(numBlocks_R):\n",
    "        for c in range(numBlocks_C):\n",
    "            \n",
    "            if arr.size != 0:\n",
    "                tmp = arr[0].reshape((B,B))\n",
    "                arr = np.delete(arr,0,0)\n",
    "                newImage[r*B:(r+1)*B , c*B:(c+1)*B] = tmp\n",
    "                \n",
    "    return newImage"
   ]
  },
  {
   "cell_type": "markdown",
   "metadata": {},
   "source": [
    "### 1.3 Function: Compress all the images and save them into a numpy array"
   ]
  },
  {
   "cell_type": "code",
   "execution_count": 8,
   "metadata": {},
   "outputs": [],
   "source": [
    "def building_Input(images,B):\n",
    "    input_X = []\n",
    "    \n",
    "    for i in images:\n",
    "        input_X.extend(compression(i,B))\n",
    "    return np.asarray(input_X)"
   ]
  },
  {
   "cell_type": "code",
   "execution_count": 9,
   "metadata": {},
   "outputs": [],
   "source": [
    "#Test\n",
    "test = building_Input(images,B)"
   ]
  },
  {
   "cell_type": "code",
   "execution_count": 10,
   "metadata": {},
   "outputs": [
    {
     "name": "stdout",
     "output_type": "stream",
     "text": [
      "307200\n",
      "<class 'numpy.ndarray'>\n",
      "256\n"
     ]
    }
   ],
   "source": [
    "#Each image construct 3072 images = 768/16 * 1024/16\n",
    "print(len(test))\n",
    "print(type(test))\n",
    "print(len(test[0]))#should be B*B"
   ]
  },
  {
   "cell_type": "markdown",
   "metadata": {},
   "source": [
    "### 1.4 Splitting Data "
   ]
  },
  {
   "cell_type": "code",
   "execution_count": 11,
   "metadata": {},
   "outputs": [],
   "source": [
    "#Split your data to test and train\n",
    "X_train_Or, X_test_Or, y_train_Or, y_test_Or = train_test_split(images,images, test_size=0.30, random_state=42)"
   ]
  },
  {
   "cell_type": "code",
   "execution_count": 12,
   "metadata": {},
   "outputs": [
    {
     "name": "stdout",
     "output_type": "stream",
     "text": [
      "Number of images in Training set:  70\n",
      "Number of images in Test set:  30\n"
     ]
    }
   ],
   "source": [
    "print(\"Number of images in Training set: \",len(X_train_Or))\n",
    "print(\"Number of images in Test set: \",len(X_test_Or))"
   ]
  },
  {
   "cell_type": "code",
   "execution_count": 13,
   "metadata": {},
   "outputs": [],
   "source": [
    "def save_images_to_folder(folder,img_name,images):\n",
    "    path = folder+\"/\"+ img_name\n",
    "    for i,im in enumerate(images):\n",
    "        cv2.imwrite(path+str(i)+'.JPEG',im)  \n",
    "    return "
   ]
  },
  {
   "cell_type": "code",
   "execution_count": 15,
   "metadata": {},
   "outputs": [],
   "source": [
    "#Saving images in to a file\n",
    "save_images_to_folder('train','train_',X_train_Or)\n",
    "save_images_to_folder('test','test_',X_test_Or)"
   ]
  },
  {
   "cell_type": "markdown",
   "metadata": {},
   "source": [
    "### 1.5 Making data ready for training"
   ]
  },
  {
   "cell_type": "code",
   "execution_count": 14,
   "metadata": {},
   "outputs": [],
   "source": [
    "#Train\n",
    "X_train = building_Input(X_train_Or,B)\n",
    "y_train = X_train\n",
    "\n",
    "#Test\n",
    "X_test = building_Input(X_test_Or,B)\n",
    "y_test = X_test"
   ]
  },
  {
   "cell_type": "code",
   "execution_count": 15,
   "metadata": {},
   "outputs": [
    {
     "name": "stdout",
     "output_type": "stream",
     "text": [
      "Number of blocks in Training set:  215040\n",
      "Number of blocks in Test set:  92160\n"
     ]
    }
   ],
   "source": [
    "print(\"Number of blocks in Training set: \",len(X_train))\n",
    "print(\"Number of blocks in Test set: \",len(X_test))"
   ]
  },
  {
   "cell_type": "code",
   "execution_count": 16,
   "metadata": {},
   "outputs": [
    {
     "name": "stdout",
     "output_type": "stream",
     "text": [
      "(215040, 256)\n",
      "(215040, 256)\n",
      "(92160, 256)\n",
      "(92160, 256)\n"
     ]
    }
   ],
   "source": [
    "#cheking the dimensions\n",
    "#105 images in training\n",
    "print(X_train.shape)\n",
    "print(y_train.shape)\n",
    "#45 images in test\n",
    "print(X_test.shape)\n",
    "print(y_test.shape)"
   ]
  },
  {
   "cell_type": "markdown",
   "metadata": {},
   "source": [
    "### 1.6 Feature Scaling"
   ]
  },
  {
   "cell_type": "code",
   "execution_count": 116,
   "metadata": {},
   "outputs": [
    {
     "data": {
      "text/plain": [
       "array([[ 68,  68,  68, ..., 160, 160, 160],\n",
       "       [ 68,  68,  68, ...,  74,  74,  74],\n",
       "       [ 68,  68,  68, ...,  74,  74,  74],\n",
       "       ...,\n",
       "       [176, 176, 176, ...,  68,  68,  68],\n",
       "       [176, 176, 176, ...,  68,  68,  68],\n",
       "       [174, 174, 174, ...,  68,  68,  68]], dtype=uint8)"
      ]
     },
     "execution_count": 116,
     "metadata": {},
     "output_type": "execute_result"
    }
   ],
   "source": [
    "X_train"
   ]
  },
  {
   "cell_type": "markdown",
   "metadata": {},
   "source": [
    "# 2. Building the Model"
   ]
  },
  {
   "cell_type": "markdown",
   "metadata": {},
   "source": [
    "### 2.1 Adding Layers"
   ]
  },
  {
   "cell_type": "code",
   "execution_count": 17,
   "metadata": {},
   "outputs": [],
   "source": [
    "def build_Model(B,R,T):\n",
    "    ##Set random seeds\n",
    "    np.random.seed(23)\n",
    "    tf.set_random_seed(23)\n",
    "    \n",
    "    #Creates a model\n",
    "    model = keras.models.Sequential()\n",
    "    \n",
    "    #Add layers\n",
    "    #First hidden layer\n",
    "    model.add(\n",
    "         keras.layers.Dense(\n",
    "                            units = int(B*B*R),\n",
    "                            input_dim = B*B,\n",
    "                            kernel_initializer = 'glorot_uniform',\n",
    "                            bias_initializer='zeros',\n",
    "                            activation = 'relu'))\n",
    "\n",
    "    #First Reconstruction Layer\n",
    "    model.add(\n",
    "         keras.layers.Dense(\n",
    "                            units = B*B*T,\n",
    "                            input_dim = B*B*R,\n",
    "                            kernel_initializer = 'glorot_uniform',\n",
    "                            bias_initializer='zeros',\n",
    "                            activation = 'relu'))\n",
    "\n",
    "    #Second Reconstruction Layer\n",
    "    model.add(\n",
    "         keras.layers.Dense(\n",
    "                            units = B*B*T,\n",
    "                            input_dim = B*B*T,\n",
    "                            kernel_initializer = 'glorot_uniform',\n",
    "                            bias_initializer='zeros',\n",
    "                            activation = 'relu'))\n",
    "\n",
    "    #Output Layer\n",
    "    #If you don't specify any activation, no activation is applied. \"linear\" activation: a(x) = x).\n",
    "    model.add(\n",
    "         keras.layers.Dense(\n",
    "                            units = B*B,\n",
    "                            input_dim = B*B*T,\n",
    "                            kernel_initializer = 'glorot_uniform',\n",
    "                            bias_initializer='zeros'))\n",
    "    return model"
   ]
  },
  {
   "cell_type": "code",
   "execution_count": 18,
   "metadata": {},
   "outputs": [],
   "source": [
    "model = build_Model(B,R,T)"
   ]
  },
  {
   "cell_type": "code",
   "execution_count": 19,
   "metadata": {},
   "outputs": [],
   "source": [
    "#A custome metric function\n",
    "#https://en.wikipedia.org/wiki/Peak_signal-to-noise_ratio\n",
    "\n",
    "def PSNR(y_true, y_pred):\n",
    "    \n",
    "    max_I = 255.0 \n",
    "    \n",
    "    loge = 10.0 * backend.log((max_I ** 2) / (backend.mean(backend.square(y_pred - y_true)))) \n",
    "    log10 = loge/backend.log(10.0)#backend.log is not base 10\n",
    "    \n",
    "    return log10"
   ]
  },
  {
   "cell_type": "markdown",
   "metadata": {},
   "source": [
    "### 2.2 Optimizer and Cost Function"
   ]
  },
  {
   "cell_type": "code",
   "execution_count": 20,
   "metadata": {},
   "outputs": [],
   "source": [
    "#Choose optimizer and a cost function\n",
    "\n",
    "RMSprop_optimizer = keras.optimizers.RMSprop(lr=0.00001, rho=0.9, epsilon=None, decay=1e-7)\n",
    "\n",
    "model.compile(optimizer = RMSprop_optimizer , loss = 'mean_squared_error', metrics=[PSNR])"
   ]
  },
  {
   "cell_type": "code",
   "execution_count": 21,
   "metadata": {},
   "outputs": [
    {
     "name": "stdout",
     "output_type": "stream",
     "text": [
      "_________________________________________________________________\n",
      "Layer (type)                 Output Shape              Param #   \n",
      "=================================================================\n",
      "dense_1 (Dense)              (None, 64)                16448     \n",
      "_________________________________________________________________\n",
      "dense_2 (Dense)              (None, 2048)              133120    \n",
      "_________________________________________________________________\n",
      "dense_3 (Dense)              (None, 2048)              4196352   \n",
      "_________________________________________________________________\n",
      "dense_4 (Dense)              (None, 256)               524544    \n",
      "=================================================================\n",
      "Total params: 4,870,464\n",
      "Trainable params: 4,870,464\n",
      "Non-trainable params: 0\n",
      "_________________________________________________________________\n",
      "None\n"
     ]
    }
   ],
   "source": [
    "print(model.summary())"
   ]
  },
  {
   "cell_type": "markdown",
   "metadata": {},
   "source": [
    "### 2.3 Callbacks"
   ]
  },
  {
   "cell_type": "code",
   "execution_count": 22,
   "metadata": {},
   "outputs": [],
   "source": [
    "class LossHistory(keras.callbacks.Callback):\n",
    "    def on_train_begin(self, logs={}):\n",
    "        self.losses = []\n",
    "        self.PSNR = []\n",
    "\n",
    "    def on_batch_end(self, batch, logs={}):\n",
    "        self.losses.append(logs.get('loss'))\n",
    "        self.PSNR.append(logs.get('PSNR'))"
   ]
  },
  {
   "cell_type": "code",
   "execution_count": 23,
   "metadata": {},
   "outputs": [],
   "source": [
    "loss_history = LossHistory()"
   ]
  },
  {
   "cell_type": "markdown",
   "metadata": {},
   "source": [
    "### 2.3 Training the model"
   ]
  },
  {
   "cell_type": "code",
   "execution_count": 24,
   "metadata": {},
   "outputs": [
    {
     "name": "stdout",
     "output_type": "stream",
     "text": [
      "Train on 215040 samples, validate on 92160 samples\n",
      "Epoch 1/50\n",
      "215040/215040 [==============================] - 32s 150us/step - loss: 339.2591 - PSNR: 29.7219 - val_loss: 40.2439 - val_PSNR: 33.4051\n",
      "Epoch 2/50\n",
      "215040/215040 [==============================] - 29s 134us/step - loss: 36.4162 - PSNR: 33.1760 - val_loss: 31.2221 - val_PSNR: 34.7213\n",
      "Epoch 3/50\n",
      "215040/215040 [==============================] - 29s 133us/step - loss: 30.7791 - PSNR: 33.8988 - val_loss: 27.5395 - val_PSNR: 35.3147\n",
      "Epoch 4/50\n",
      "215040/215040 [==============================] - 29s 133us/step - loss: 27.6769 - PSNR: 34.3390 - val_loss: 27.0058 - val_PSNR: 34.9682\n",
      "Epoch 5/50\n",
      "215040/215040 [==============================] - 35s 163us/step - loss: 25.6266 - PSNR: 34.6694 - val_loss: 24.5294 - val_PSNR: 35.5671\n",
      "Epoch 6/50\n",
      "215040/215040 [==============================] - 29s 134us/step - loss: 24.1046 - PSNR: 34.9937 - val_loss: 22.6437 - val_PSNR: 36.1108\n",
      "Epoch 7/50\n",
      "215040/215040 [==============================] - 31s 142us/step - loss: 22.8937 - PSNR: 35.1853 - val_loss: 22.4442 - val_PSNR: 35.9009\n",
      "Epoch 8/50\n",
      "215040/215040 [==============================] - 31s 142us/step - loss: 21.9152 - PSNR: 35.3413 - val_loss: 20.8301 - val_PSNR: 36.4650\n",
      "Epoch 9/50\n",
      "215040/215040 [==============================] - 29s 136us/step - loss: 21.0805 - PSNR: 35.5148 - val_loss: 20.6786 - val_PSNR: 36.3126\n",
      "Epoch 10/50\n",
      "215040/215040 [==============================] - 29s 134us/step - loss: 20.3637 - PSNR: 35.6863 - val_loss: 19.4978 - val_PSNR: 36.7608\n",
      "Epoch 11/50\n",
      "215040/215040 [==============================] - 29s 133us/step - loss: 19.7219 - PSNR: 35.8368 - val_loss: 19.0322 - val_PSNR: 36.8111\n",
      "Epoch 12/50\n",
      "215040/215040 [==============================] - 29s 133us/step - loss: 19.1457 - PSNR: 35.9555 - val_loss: 18.7198 - val_PSNR: 36.8178\n",
      "Epoch 13/50\n",
      "215040/215040 [==============================] - 29s 133us/step - loss: 18.6064 - PSNR: 36.0486 - val_loss: 18.1339 - val_PSNR: 36.9996\n",
      "Epoch 14/50\n",
      "215040/215040 [==============================] - 29s 133us/step - loss: 18.1265 - PSNR: 36.1785 - val_loss: 17.7972 - val_PSNR: 37.0510\n",
      "Epoch 15/50\n",
      "215040/215040 [==============================] - 29s 133us/step - loss: 17.6912 - PSNR: 36.3172 - val_loss: 17.7683 - val_PSNR: 36.9255\n",
      "Epoch 16/50\n",
      "215040/215040 [==============================] - 29s 133us/step - loss: 17.2837 - PSNR: 36.3926 - val_loss: 17.5377 - val_PSNR: 36.9474\n",
      "Epoch 17/50\n",
      "215040/215040 [==============================] - 29s 133us/step - loss: 16.9041 - PSNR: 36.4694 - val_loss: 17.8439 - val_PSNR: 36.6981\n",
      "Epoch 18/50\n",
      "215040/215040 [==============================] - 28s 132us/step - loss: 16.5588 - PSNR: 36.5733 - val_loss: 16.8756 - val_PSNR: 37.1056\n",
      "Epoch 19/50\n",
      "215040/215040 [==============================] - 29s 133us/step - loss: 16.2342 - PSNR: 36.6508 - val_loss: 16.0975 - val_PSNR: 37.4859\n",
      "Epoch 20/50\n",
      "215040/215040 [==============================] - 29s 133us/step - loss: 15.9366 - PSNR: 36.7232 - val_loss: 15.7548 - val_PSNR: 37.6082\n",
      "Epoch 21/50\n",
      "215040/215040 [==============================] - 29s 133us/step - loss: 15.6567 - PSNR: 36.8252 - val_loss: 15.5902 - val_PSNR: 37.6134\n",
      "Epoch 22/50\n",
      "215040/215040 [==============================] - 29s 133us/step - loss: 15.3943 - PSNR: 36.9291 - val_loss: 16.5114 - val_PSNR: 37.0215\n",
      "Epoch 23/50\n",
      "215040/215040 [==============================] - 29s 133us/step - loss: 15.1498 - PSNR: 36.9702 - val_loss: 15.6557 - val_PSNR: 37.4112\n",
      "Epoch 24/50\n",
      "215040/215040 [==============================] - 29s 133us/step - loss: 14.9144 - PSNR: 36.9739 - val_loss: 14.6880 - val_PSNR: 37.9934\n",
      "Epoch 25/50\n",
      "215040/215040 [==============================] - 29s 133us/step - loss: 14.6927 - PSNR: 37.0814 - val_loss: 14.4041 - val_PSNR: 38.1226\n",
      "Epoch 26/50\n",
      "215040/215040 [==============================] - 29s 133us/step - loss: 14.4817 - PSNR: 37.1492 - val_loss: 14.7963 - val_PSNR: 37.7449\n",
      "Epoch 27/50\n",
      "215040/215040 [==============================] - 29s 133us/step - loss: 14.2774 - PSNR: 37.2380 - val_loss: 14.2788 - val_PSNR: 38.0523\n",
      "Epoch 28/50\n",
      "215040/215040 [==============================] - 29s 133us/step - loss: 14.0862 - PSNR: 37.3004 - val_loss: 14.4761 - val_PSNR: 37.8388\n",
      "Epoch 29/50\n",
      "215040/215040 [==============================] - 29s 133us/step - loss: 13.9092 - PSNR: 37.3349 - val_loss: 13.8246 - val_PSNR: 38.2615\n",
      "Epoch 30/50\n",
      "215040/215040 [==============================] - 28s 132us/step - loss: 13.7319 - PSNR: 37.3980 - val_loss: 13.4941 - val_PSNR: 38.4663\n",
      "Epoch 31/50\n",
      "215040/215040 [==============================] - 29s 133us/step - loss: 13.5604 - PSNR: 37.4371 - val_loss: 13.8825 - val_PSNR: 38.0550\n",
      "Epoch 32/50\n",
      "215040/215040 [==============================] - 29s 133us/step - loss: 13.4008 - PSNR: 37.4888 - val_loss: 13.8102 - val_PSNR: 38.0542\n",
      "Epoch 33/50\n",
      "215040/215040 [==============================] - 28s 132us/step - loss: 13.2472 - PSNR: 37.5525 - val_loss: 13.3320 - val_PSNR: 38.3792\n",
      "Epoch 34/50\n",
      "215040/215040 [==============================] - 28s 132us/step - loss: 13.0996 - PSNR: 37.6013 - val_loss: 13.6973 - val_PSNR: 38.0430\n",
      "Epoch 35/50\n",
      "215040/215040 [==============================] - 28s 132us/step - loss: 12.9552 - PSNR: 37.6452 - val_loss: 12.7557 - val_PSNR: 38.7563\n",
      "Epoch 36/50\n",
      "215040/215040 [==============================] - 29s 133us/step - loss: 12.8139 - PSNR: 37.6656 - val_loss: 13.0020 - val_PSNR: 38.4503\n",
      "Epoch 37/50\n",
      "215040/215040 [==============================] - 29s 133us/step - loss: 12.6801 - PSNR: 37.7350 - val_loss: 12.5733 - val_PSNR: 38.7965\n",
      "Epoch 38/50\n",
      "215040/215040 [==============================] - 29s 133us/step - loss: 12.5509 - PSNR: 37.7674 - val_loss: 12.7539 - val_PSNR: 38.5536\n",
      "Epoch 39/50\n",
      "215040/215040 [==============================] - 28s 132us/step - loss: 12.4259 - PSNR: 37.8131 - val_loss: 12.4879 - val_PSNR: 38.7314\n",
      "Epoch 40/50\n",
      "215040/215040 [==============================] - 29s 133us/step - loss: 12.3010 - PSNR: 37.8371 - val_loss: 12.4646 - val_PSNR: 38.6946\n",
      "Epoch 41/50\n",
      "215040/215040 [==============================] - 29s 133us/step - loss: 12.1866 - PSNR: 37.8903 - val_loss: 12.2025 - val_PSNR: 38.8972\n",
      "Epoch 42/50\n",
      "215040/215040 [==============================] - 29s 133us/step - loss: 12.0695 - PSNR: 37.9364 - val_loss: 12.2147 - val_PSNR: 38.8188\n",
      "Epoch 43/50\n",
      "215040/215040 [==============================] - 29s 133us/step - loss: 11.9595 - PSNR: 37.9650 - val_loss: 12.2156 - val_PSNR: 38.7689\n",
      "Epoch 44/50\n",
      "215040/215040 [==============================] - 29s 133us/step - loss: 11.8488 - PSNR: 38.0256 - val_loss: 12.5988 - val_PSNR: 38.3911\n",
      "Epoch 45/50\n",
      "215040/215040 [==============================] - 29s 133us/step - loss: 11.7408 - PSNR: 38.0770 - val_loss: 12.1334 - val_PSNR: 38.7345\n",
      "Epoch 46/50\n",
      "215040/215040 [==============================] - 29s 133us/step - loss: 11.6395 - PSNR: 38.1100 - val_loss: 11.7614 - val_PSNR: 39.0433\n",
      "Epoch 47/50\n",
      "215040/215040 [==============================] - 29s 133us/step - loss: 11.5395 - PSNR: 38.1369 - val_loss: 11.5758 - val_PSNR: 39.1825\n",
      "Epoch 48/50\n",
      "215040/215040 [==============================] - 29s 133us/step - loss: 11.4421 - PSNR: 38.1752 - val_loss: 12.4338 - val_PSNR: 38.3818\n",
      "Epoch 49/50\n",
      "215040/215040 [==============================] - 29s 133us/step - loss: 11.3482 - PSNR: 38.2045 - val_loss: 11.8490 - val_PSNR: 38.8079\n",
      "Epoch 50/50\n",
      "215040/215040 [==============================] - 29s 133us/step - loss: 11.2529 - PSNR: 38.2354 - val_loss: 11.8200 - val_PSNR: 38.7950\n"
     ]
    }
   ],
   "source": [
    "#Training\n",
    "history = model.fit(X_train, y_train,\n",
    "                    batch_size=64, epochs =50,\n",
    "                    verbose = 1,#can follow the optimization during training\n",
    "                    validation_data=(X_test, y_test),\n",
    "                    callbacks=[loss_history])# check if the model overfitting by having validation set"
   ]
  },
  {
   "cell_type": "markdown",
   "metadata": {},
   "source": [
    "#### 2.3.1 Saving the Model and the History"
   ]
  },
  {
   "cell_type": "code",
   "execution_count": 25,
   "metadata": {},
   "outputs": [
    {
     "name": "stdout",
     "output_type": "stream",
     "text": [
      "Saved model to disk\n"
     ]
    }
   ],
   "source": [
    "#Saving the model \n",
    "\n",
    "model_json = model.to_json()\n",
    "with open(\"model3_B16_4.json\", \"w\") as json_file:\n",
    "    json_file.write(model_json)\n",
    "    \n",
    "model.save_weights(\"model3_B16_4.h5\")\n",
    "print(\"Saved model to disk\")"
   ]
  },
  {
   "cell_type": "code",
   "execution_count": 26,
   "metadata": {},
   "outputs": [],
   "source": [
    "#save the history of training\n",
    "import pickle\n",
    "pickle_out = open(\"history3_B16_4.pickle\",\"wb\")\n",
    "pickle.dump(history.history, pickle_out)\n",
    "pickle_out.close()"
   ]
  },
  {
   "cell_type": "markdown",
   "metadata": {},
   "source": [
    "#### 2.3.2 Uploading the Model and the History "
   ]
  },
  {
   "cell_type": "code",
   "execution_count": null,
   "metadata": {},
   "outputs": [],
   "source": [
    "#load your model\n",
    "\n",
    "json_file = open('model3_B8.json', 'r')\n",
    "loaded_model_json = json_file.read()\n",
    "json_file.close()\n",
    "\n",
    "model = model_from_json(loaded_model_json)\n",
    "model.load_weights(\"model3_B8.h5\")"
   ]
  },
  {
   "cell_type": "code",
   "execution_count": null,
   "metadata": {},
   "outputs": [],
   "source": [
    "#if you load your model and weights you need to compile it again\n",
    "model.compile(optimizer = adam_optimizer , loss = 'mean_squared_error', metrics=[PSNR])"
   ]
  },
  {
   "cell_type": "markdown",
   "metadata": {},
   "source": [
    "# 3.Predicting"
   ]
  },
  {
   "cell_type": "code",
   "execution_count": 27,
   "metadata": {},
   "outputs": [
    {
     "name": "stdout",
     "output_type": "stream",
     "text": [
      "215040/215040 [==============================] - 10s 47us/step\n",
      "92160/92160 [==============================] - 4s 47us/step\n"
     ]
    }
   ],
   "source": [
    "y_train_pred = model.predict(X_train,verbose = 1)\n",
    "y_test_pred = model.predict(X_test,verbose = 1)"
   ]
  },
  {
   "cell_type": "code",
   "execution_count": 28,
   "metadata": {},
   "outputs": [
    {
     "data": {
      "text/plain": [
       "array([[ 70.63086 ,  86.859474,  67.578804, ..., 154.94643 , 155.33585 ,\n",
       "        152.61601 ],\n",
       "       [ 73.9377  ,  71.61801 ,  69.59983 , ...,  78.48936 ,  83.26727 ,\n",
       "         75.50522 ],\n",
       "       [ 67.730606,  67.81566 ,  68.129875, ...,  73.65058 ,  73.25934 ,\n",
       "         72.03856 ],\n",
       "       ...,\n",
       "       [176.05005 , 176.25064 , 177.45396 , ...,  65.805145,  66.06315 ,\n",
       "         66.27425 ],\n",
       "       [176.23749 , 176.23413 , 177.52777 , ...,  66.483665,  66.48071 ,\n",
       "         66.65703 ],\n",
       "       [174.20203 , 175.60468 , 176.42014 , ...,  67.92378 ,  71.23407 ,\n",
       "         57.95832 ]], dtype=float32)"
      ]
     },
     "execution_count": 28,
     "metadata": {},
     "output_type": "execute_result"
    }
   ],
   "source": [
    "y_train_pred"
   ]
  },
  {
   "cell_type": "code",
   "execution_count": 29,
   "metadata": {},
   "outputs": [
    {
     "data": {
      "text/plain": [
       "array([[ 72.043976,  65.50497 ,  70.65434 , ..., 141.42813 , 134.42648 ,\n",
       "        135.2231  ],\n",
       "       [ 56.776886,  59.66513 ,  71.91132 , ...,  71.26948 ,  67.26304 ,\n",
       "         60.83184 ],\n",
       "       [ 68.11685 ,  67.99191 ,  67.93901 , ...,  71.979866,  71.85814 ,\n",
       "         70.47598 ],\n",
       "       ...,\n",
       "       [176.92657 , 177.10934 , 178.07225 , ...,  63.507515,  63.06833 ,\n",
       "         63.39631 ],\n",
       "       [176.69958 , 176.37405 , 177.4514  , ...,  63.71418 ,  63.20855 ,\n",
       "         63.769547],\n",
       "       [175.16904 , 174.56465 , 175.21162 , ...,  65.355286,  69.48415 ,\n",
       "         57.93066 ]], dtype=float32)"
      ]
     },
     "execution_count": 29,
     "metadata": {},
     "output_type": "execute_result"
    }
   ],
   "source": [
    "y_test_pred"
   ]
  },
  {
   "cell_type": "markdown",
   "metadata": {},
   "source": [
    "# 4. Evaluation"
   ]
  },
  {
   "cell_type": "code",
   "execution_count": 30,
   "metadata": {},
   "outputs": [
    {
     "name": "stdout",
     "output_type": "stream",
     "text": [
      "215040/215040 [==============================] - 1s 6us/step\n",
      "Training PSNR:\n",
      "PSNR: 37.66%\n"
     ]
    }
   ],
   "source": [
    "#Evaluate on the whole image\n",
    "imgL = int(img_shape[0]*img_shape[1]/(B*B))\n",
    "\n",
    "scores_Train = model.evaluate(X_train, y_train, verbose=1,batch_size=imgL)\n",
    "\n",
    "print(\"Training PSNR:\")\n",
    "print(\"%s: %.2f%%\" % (model.metrics_names[1], scores_Train[1]))"
   ]
  },
  {
   "cell_type": "code",
   "execution_count": 31,
   "metadata": {},
   "outputs": [
    {
     "name": "stdout",
     "output_type": "stream",
     "text": [
      "92160/92160 [==============================] - 1s 7us/step\n",
      "Test PSNR:\n",
      "PSNR: 37.42%\n"
     ]
    }
   ],
   "source": [
    "scores_Test = model.evaluate(X_test, y_test, verbose=1,batch_size=imgL)\n",
    "\n",
    "print(\"Test PSNR:\")\n",
    "print(\"%s: %.2f%%\" % (model.metrics_names[1], scores_Test[1]))"
   ]
  },
  {
   "cell_type": "markdown",
   "metadata": {},
   "source": [
    "### 4.1 Plots"
   ]
  },
  {
   "cell_type": "code",
   "execution_count": 32,
   "metadata": {},
   "outputs": [
    {
     "data": {
      "image/png": "[encoded data removed]",
      "text/plain": [
       "<Figure size 432x288 with 1 Axes>"
      ]
     },
     "metadata": {},
     "output_type": "display_data"
    }
   ],
   "source": [
    "#plotting Loss\n",
    "plt.plot(history.history['loss'])\n",
    "plt.plot(history.history['val_loss'])\n",
    "plt.title('Model Loss')\n",
    "plt.ylabel('Loss')\n",
    "plt.xlabel('Epoch')\n",
    "plt.legend(['Train', 'Test'], loc='upper left')\n",
    "plt.show()"
   ]
  },
  {
   "cell_type": "code",
   "execution_count": 33,
   "metadata": {},
   "outputs": [
    {
     "data": {
      "image/png": "[encoded data removed]",
      "text/plain": [
       "<Figure size 432x288 with 1 Axes>"
      ]
     },
     "metadata": {},
     "output_type": "display_data"
    }
   ],
   "source": [
    "#plotting PSNR\n",
    "plt.plot(history.history['PSNR'])\n",
    "plt.plot(history.history['val_PSNR'])\n",
    "plt.title('Model PSNR')\n",
    "plt.ylabel('PSNR')\n",
    "plt.xlabel('Epoch')\n",
    "plt.legend(['Train', 'Test'], loc='upper left')\n",
    "plt.show()"
   ]
  },
  {
   "cell_type": "markdown",
   "metadata": {},
   "source": [
    "# 5. Reconstrcut the predicted images"
   ]
  },
  {
   "cell_type": "markdown",
   "metadata": {},
   "source": [
    "### 5.1 Function: reconstrcution"
   ]
  },
  {
   "cell_type": "code",
   "execution_count": 34,
   "metadata": {},
   "outputs": [],
   "source": [
    "#number of rows for each image = (len(image)xlen(image[0])/B^2\n",
    "#gets an array and reconstruct the images\n",
    "def building_output(result,img_shape):\n",
    "    \n",
    "    imgL = int(img_shape[0]*img_shape[1]/(B*B))\n",
    "    out_put = []\n",
    "    \n",
    "    for i in range(0,len(result),imgL):\n",
    "        out_put.append(decompression(result[i:i+imgL],B,img_shape))\n",
    "    \n",
    "    return out_put"
   ]
  },
  {
   "cell_type": "markdown",
   "metadata": {},
   "source": [
    "### 5.2 Reconstrcuting train and test"
   ]
  },
  {
   "cell_type": "code",
   "execution_count": 35,
   "metadata": {},
   "outputs": [],
   "source": [
    "#reconstructing train predictions\n",
    "dec_img_train = building_output(y_train_pred,img_shape)\n",
    "\n",
    "#reconstructing test predictions\n",
    "dec_img_test = building_output(y_test_pred,img_shape)"
   ]
  },
  {
   "cell_type": "code",
   "execution_count": 36,
   "metadata": {},
   "outputs": [
    {
     "name": "stdout",
     "output_type": "stream",
     "text": [
      "70\n",
      "30\n"
     ]
    }
   ],
   "source": [
    "#test\n",
    "print(len(dec_img_train))\n",
    "print(len(dec_img_test))"
   ]
  },
  {
   "cell_type": "markdown",
   "metadata": {},
   "source": [
    "### 5.3 Plotting images"
   ]
  },
  {
   "cell_type": "code",
   "execution_count": 38,
   "metadata": {},
   "outputs": [
    {
     "data": {
      "image/png": "[encoded data removed]",
      "text/plain": [
       "<Figure size 432x288 with 1 Axes>"
      ]
     },
     "metadata": {},
     "output_type": "display_data"
    },
    {
     "data": {
      "image/png": "[encoded data removed]",
      "text/plain": [
       "<Figure size 432x288 with 1 Axes>"
      ]
     },
     "metadata": {},
     "output_type": "display_data"
    },
    {
     "name": "stdout",
     "output_type": "stream",
     "text": [
      "37.740607515864426\n"
     ]
    }
   ],
   "source": [
    "#train\n",
    "img_in=X_train_Or[50]\n",
    "img_out = dec_img_train[50]\n",
    "imgplot = plt.imshow(img_in,cmap='gray')\n",
    "plt.show()\n",
    "imgplot = plt.imshow(img_out,cmap='gray')\n",
    "plt.show()\n",
    "print(PSNR_Final(img_in,img_out))#PSNR_Final is in section 5.4"
   ]
  },
  {
   "cell_type": "code",
   "execution_count": 39,
   "metadata": {},
   "outputs": [
    {
     "data": {
      "image/png": "[encoded data removed]",
      "text/plain": [
       "<Figure size 432x288 with 1 Axes>"
      ]
     },
     "metadata": {},
     "output_type": "display_data"
    },
    {
     "data": {
      "image/png": "[encoded data removed]",
      "text/plain": [
       "<Figure size 432x288 with 1 Axes>"
      ]
     },
     "metadata": {},
     "output_type": "display_data"
    },
    {
     "name": "stdout",
     "output_type": "stream",
     "text": [
      "37.812382421049314\n"
     ]
    }
   ],
   "source": [
    "#test\n",
    "img_in_t=X_test_Or[15]\n",
    "img_out_t = dec_img_test[15]\n",
    "imgplot = plt.imshow(img_in_t,cmap='gray')\n",
    "plt.show()\n",
    "imgplot = plt.imshow(img_out_t,cmap='gray')\n",
    "plt.show()\n",
    "print(PSNR_Final(img_in_t,img_out_t))"
   ]
  },
  {
   "cell_type": "markdown",
   "metadata": {},
   "source": [
    "### 5.3 Saving images"
   ]
  },
  {
   "cell_type": "code",
   "execution_count": 40,
   "metadata": {},
   "outputs": [],
   "source": [
    "def save_images_to_folder(folder,img_name,images):\n",
    "    path = folder+\"/\"+ img_name\n",
    "    for i,im in enumerate(images):\n",
    "        cv2.imwrite(path+str(i)+'.png',im)  \n",
    "    return "
   ]
  },
  {
   "cell_type": "code",
   "execution_count": 41,
   "metadata": {},
   "outputs": [],
   "source": [
    "#saving the precited images\n",
    "save_images_to_folder('train_pred_B8_3','train_p_B16_2_',dec_img_train)\n",
    "save_images_to_folder('test_pred_B8_3','test_p_B16_2_',dec_img_test)"
   ]
  },
  {
   "cell_type": "markdown",
   "metadata": {},
   "source": [
    "### 5.4 Find the average PSNR "
   ]
  },
  {
   "cell_type": "code",
   "execution_count": 37,
   "metadata": {},
   "outputs": [],
   "source": [
    "#Calculate PSNR on the whole image\n",
    "def PSNR_Final(y_true, y_pred):\n",
    "    max_I = 255.0 #in this dataset #double check with get the max(img)\n",
    "    tmp =  np.mean(np.square(y_pred - y_true))\n",
    "    log_res = 10 * np.log10((max_I ** 2) /tmp)\n",
    "    \n",
    "    return log_res"
   ]
  },
  {
   "cell_type": "code",
   "execution_count": 42,
   "metadata": {},
   "outputs": [],
   "source": [
    "#calcualte the average PSNR on a data set\n",
    "def cal_PSNR_Dataset(output_images,input_images):\n",
    "    res_psnr = []\n",
    "    for i,o in enumerate(output_images):\n",
    "        res_psnr.append(PSNR_Final(input_images[i],o))\n",
    "    return res_psnr"
   ]
  },
  {
   "cell_type": "code",
   "execution_count": 43,
   "metadata": {},
   "outputs": [
    {
     "name": "stdout",
     "output_type": "stream",
     "text": [
      "average PSNR on training:  37.66420542988648\n"
     ]
    }
   ],
   "source": [
    "res_psnr_train = cal_PSNR_Dataset(dec_img_train,X_train_Or)\n",
    "print(\"average PSNR on training: \",np.mean(res_psnr_train))"
   ]
  },
  {
   "cell_type": "code",
   "execution_count": 44,
   "metadata": {},
   "outputs": [
    {
     "data": {
      "text/plain": [
       "[37.39037397906721,\n",
       " 37.609450045219866,\n",
       " 37.8648941019286,\n",
       " 37.77667997980268,\n",
       " 37.629268515799104,\n",
       " 38.3764944258415,\n",
       " 37.01947711038219,\n",
       " 37.22501991289376,\n",
       " 37.811342391675126,\n",
       " 37.38785222753997,\n",
       " 37.24322599220015,\n",
       " 37.99870707497102,\n",
       " 37.76241508699891,\n",
       " 38.07215069899865,\n",
       " 37.75948935639256,\n",
       " 37.48227825693742,\n",
       " 37.02048628153851,\n",
       " 37.51872697723399,\n",
       " 37.633757405448584,\n",
       " 36.806785373270344,\n",
       " 37.904913600807745,\n",
       " 37.93308269895154,\n",
       " 38.17964861926975,\n",
       " 37.62749560168393,\n",
       " 37.65773410163038,\n",
       " 36.85061808577271,\n",
       " 37.351705604411926,\n",
       " 37.593804029511766,\n",
       " 37.88944405767176,\n",
       " 37.88105066125294,\n",
       " 37.18914800489742,\n",
       " 38.12339221494198,\n",
       " 37.87124673304945,\n",
       " 38.11933918023505,\n",
       " 37.99533227978191,\n",
       " 37.84295626965565,\n",
       " 37.66642576549263,\n",
       " 37.01848471869609,\n",
       " 37.87627246712995,\n",
       " 37.9326765071662,\n",
       " 37.597494436230576,\n",
       " 37.69822340979098,\n",
       " 37.186728939890116,\n",
       " 38.101478464482234,\n",
       " 37.769909575202945,\n",
       " 37.05992674525045,\n",
       " 37.354815847473596,\n",
       " 37.414421657657265,\n",
       " 37.74683157275633,\n",
       " 37.51380229821599,\n",
       " 37.740607515864426,\n",
       " 37.86164141244697,\n",
       " 37.92134754110051,\n",
       " 37.93568258930422,\n",
       " 38.06473362755516,\n",
       " 38.073922013102454,\n",
       " 37.516672650517805,\n",
       " 37.39164600315658,\n",
       " 37.85933950340207,\n",
       " 38.00534918413956,\n",
       " 38.077935690771,\n",
       " 37.391559603431105,\n",
       " 38.18126685164286,\n",
       " 37.93720237649526,\n",
       " 37.465693841703384,\n",
       " 37.36223518603208,\n",
       " 37.40704217161384,\n",
       " 37.40667515285675,\n",
       " 37.50784303372298,\n",
       " 38.04870480009327]"
      ]
     },
     "execution_count": 44,
     "metadata": {},
     "output_type": "execute_result"
    }
   ],
   "source": [
    "res_psnr_train"
   ]
  },
  {
   "cell_type": "code",
   "execution_count": 45,
   "metadata": {},
   "outputs": [
    {
     "name": "stdout",
     "output_type": "stream",
     "text": [
      "average PSNR on the test set:  37.41756269920125\n"
     ]
    }
   ],
   "source": [
    "res_psnr_test = cal_PSNR_Dataset(dec_img_test,X_test_Or)\n",
    "print(\"average PSNR on the test set: \",np.mean(res_psnr_test))"
   ]
  },
  {
   "cell_type": "code",
   "execution_count": 46,
   "metadata": {},
   "outputs": [
    {
     "data": {
      "text/plain": [
       "[37.43099003483168,\n",
       " 37.53210268056367,\n",
       " 38.02006077295857,\n",
       " 37.776208040374144,\n",
       " 37.870004364037435,\n",
       " 37.49744601870485,\n",
       " 37.39994636657535,\n",
       " 37.73253996211048,\n",
       " 37.235516164960046,\n",
       " 37.752871125047406,\n",
       " 37.56602971470598,\n",
       " 37.48003679672475,\n",
       " 36.7440669771665,\n",
       " 37.40704896332731,\n",
       " 37.751061115976434,\n",
       " 37.812382421049314,\n",
       " 37.16205702290983,\n",
       " 36.955983329240716,\n",
       " 37.33140094431842,\n",
       " 37.56802732305762,\n",
       " 37.359051650725135,\n",
       " 36.96664169589111,\n",
       " 37.50041490805487,\n",
       " 36.83433848091868,\n",
       " 37.58361825435655,\n",
       " 37.50536426392647,\n",
       " 37.58715606447042,\n",
       " 36.631832037403626,\n",
       " 37.167833907536775,\n",
       " 37.36484957411364]"
      ]
     },
     "execution_count": 46,
     "metadata": {},
     "output_type": "execute_result"
    }
   ],
   "source": [
    "res_psnr_test"
   ]
  },
  {
   "cell_type": "code",
   "execution_count": null,
   "metadata": {},
   "outputs": [],
   "source": []
  }
 ],
 "metadata": {
  "kernelspec": {
   "display_name": "Python 3",
   "language": "python",
   "name": "python3"
  },
  "language_info": {
   "codemirror_mode": {
    "name": "ipython",
    "version": 3
   },
   "file_extension": ".py",
   "mimetype": "text/x-python",
   "name": "python",
   "nbconvert_exporter": "python",
   "pygments_lexer": "ipython3",
   "version": "3.6.7"
  }
 },
 "nbformat": 4,
 "nbformat_minor": 2
}
